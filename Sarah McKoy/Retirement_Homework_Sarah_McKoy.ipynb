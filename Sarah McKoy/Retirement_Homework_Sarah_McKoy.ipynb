{
 "cells": [
  {
   "cell_type": "code",
   "execution_count": 9,
   "id": "8479e4cd-f461-4043-98c5-6377f7c369c7",
   "metadata": {},
   "outputs": [
    {
     "name": "stdout",
     "output_type": "stream",
     "text": [
      "66 16211304.07099074\n"
     ]
    }
   ],
   "source": [
    "current_age = 22\n",
    "retire_age = 67\n",
    "account_balance = 0\n",
    "annual_contribution = 20500\n",
    "interest = 0.1\n",
    "annual_interest = 0\n",
    "\n",
    "for year in range(current_age, retire_age):\n",
    "    account_balance = account_balance + annual_contribution \n",
    "    annual_interest = account_balance * interest\n",
    "    account_balance = account_balance + annual_interest\n",
    "    \n",
    "print(year, account_balance)"
   ]
  },
  {
   "cell_type": "code",
   "execution_count": 10,
   "id": "0a64834e-8ddd-4c4e-b01c-0c687ce291d9",
   "metadata": {},
   "outputs": [
    {
     "name": "stdout",
     "output_type": "stream",
     "text": [
      "40 1028261.3541924984\n"
     ]
    }
   ],
   "source": [
    "goal = 960000\n",
    "account_balance = 0\n",
    "annual_contribution = 20500\n",
    "age = 22\n",
    "\n",
    "while account_balance < goal:\n",
    "    account_balance = account_balance + annual_contribution\n",
    "    annual_interest = account_balance * interest\n",
    "    account_balance = account_balance + annual_interest\n",
    "    age = age + 1\n",
    "print(age, account_balance)"
   ]
  },
  {
   "cell_type": "code",
   "execution_count": null,
   "id": "9cc59a2b-278d-4cd5-92d6-094da371ea8b",
   "metadata": {},
   "outputs": [],
   "source": []
  }
 ],
 "metadata": {
  "kernelspec": {
   "display_name": "Python 3 (ipykernel)",
   "language": "python",
   "name": "python3"
  },
  "language_info": {
   "codemirror_mode": {
    "name": "ipython",
    "version": 3
   },
   "file_extension": ".py",
   "mimetype": "text/x-python",
   "name": "python",
   "nbconvert_exporter": "python",
   "pygments_lexer": "ipython3",
   "version": "3.9.7"
  }
 },
 "nbformat": 4,
 "nbformat_minor": 5
}
