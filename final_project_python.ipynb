{
 "cells": [
  {
   "cell_type": "code",
   "execution_count": null,
   "id": "1cd15935",
   "metadata": {},
   "outputs": [],
   "source": [
    "import pandas as pd\n",
    "import pyodbc\n",
    "\n",
    "def mssql_connection(password: str, username: str, default_db: str = \"master\"):\n",
    "                     server = \"localhost\"\n",
    "                     \n",
    "                     cnxn = pyodbc.connect(\n",
    "                         \"DRIVER={ODBC Driver 17 for SQL Server};SERVER=\"\n",
    "                         + server\n",
    "                         + \";DATABASE=\"\n",
    "                         + default_db\n",
    "                         + \";UID=\"\n",
    "                         + username\n",
    "                         + \";PWD=\"\n",
    "                         +password\n",
    "                     )\n",
    "                     return cnxn"
   ]
  },
  {
   "cell_type": "code",
   "execution_count": 29,
   "id": "62c294b5",
   "metadata": {},
   "outputs": [],
   "source": [
    "conn = mssql_connection(password= \"\" , username= \"\" , default_db=\"summer_2022\")"
   ]
  },
  {
   "cell_type": "code",
   "execution_count": 60,
   "id": "ac1a638d",
   "metadata": {},
   "outputs": [],
   "source": [
    "laguardia_revenue_2017_df = pd.read_sql(\"SELECT total_amount FROM [2017_taxi_trips] LEFT JOIN taxi_zones ON [2017_taxi_trips].DOLocationID = taxi_zones.LocationID WHERE Zone = 'LaGuardia Airport'\", conn)"
   ]
  },
  {
   "cell_type": "code",
   "execution_count": 61,
   "id": "5d11978d",
   "metadata": {},
   "outputs": [
    {
     "data": {
      "text/html": [
       "<div>\n",
       "<style scoped>\n",
       "    .dataframe tbody tr th:only-of-type {\n",
       "        vertical-align: middle;\n",
       "    }\n",
       "\n",
       "    .dataframe tbody tr th {\n",
       "        vertical-align: top;\n",
       "    }\n",
       "\n",
       "    .dataframe thead th {\n",
       "        text-align: right;\n",
       "    }\n",
       "</style>\n",
       "<table border=\"1\" class=\"dataframe\">\n",
       "  <thead>\n",
       "    <tr style=\"text-align: right;\">\n",
       "      <th></th>\n",
       "      <th>total_amount</th>\n",
       "    </tr>\n",
       "  </thead>\n",
       "  <tbody>\n",
       "    <tr>\n",
       "      <th>0</th>\n",
       "      <td>5.8</td>\n",
       "    </tr>\n",
       "    <tr>\n",
       "      <th>1</th>\n",
       "      <td>5.8</td>\n",
       "    </tr>\n",
       "    <tr>\n",
       "      <th>2</th>\n",
       "      <td>5.8</td>\n",
       "    </tr>\n",
       "    <tr>\n",
       "      <th>3</th>\n",
       "      <td>12.3</td>\n",
       "    </tr>\n",
       "    <tr>\n",
       "      <th>4</th>\n",
       "      <td>12.3</td>\n",
       "    </tr>\n",
       "    <tr>\n",
       "      <th>...</th>\n",
       "      <td>...</td>\n",
       "    </tr>\n",
       "    <tr>\n",
       "      <th>133250</th>\n",
       "      <td>36.67</td>\n",
       "    </tr>\n",
       "    <tr>\n",
       "      <th>133251</th>\n",
       "      <td>34.87</td>\n",
       "    </tr>\n",
       "    <tr>\n",
       "      <th>133252</th>\n",
       "      <td>43.87</td>\n",
       "    </tr>\n",
       "    <tr>\n",
       "      <th>133253</th>\n",
       "      <td>47.58</td>\n",
       "    </tr>\n",
       "    <tr>\n",
       "      <th>133254</th>\n",
       "      <td>35.06</td>\n",
       "    </tr>\n",
       "  </tbody>\n",
       "</table>\n",
       "<p>133255 rows × 1 columns</p>\n",
       "</div>"
      ],
      "text/plain": [
       "       total_amount\n",
       "0               5.8\n",
       "1               5.8\n",
       "2               5.8\n",
       "3              12.3\n",
       "4              12.3\n",
       "...             ...\n",
       "133250        36.67\n",
       "133251        34.87\n",
       "133252        43.87\n",
       "133253        47.58\n",
       "133254        35.06\n",
       "\n",
       "[133255 rows x 1 columns]"
      ]
     },
     "execution_count": 61,
     "metadata": {},
     "output_type": "execute_result"
    }
   ],
   "source": [
    "\n",
    "laguardia_revenue_2017_df"
   ]
  },
  {
   "cell_type": "code",
   "execution_count": 62,
   "id": "35e2f88a",
   "metadata": {},
   "outputs": [
    {
     "name": "stdout",
     "output_type": "stream",
     "text": [
      "total_amount    object\n",
      "dtype: object\n"
     ]
    }
   ],
   "source": [
    "print(laguardia_revenue_2017_df.dtypes)"
   ]
  },
  {
   "cell_type": "code",
   "execution_count": 63,
   "id": "08585e9c",
   "metadata": {},
   "outputs": [],
   "source": [
    "laguardia_revenue_2017_df['total_amount'] = pd.to_numeric(laguardia_revenue_2017_df['total_amount'])\n"
   ]
  },
  {
   "cell_type": "code",
   "execution_count": 64,
   "id": "01964717",
   "metadata": {},
   "outputs": [
    {
     "name": "stdout",
     "output_type": "stream",
     "text": [
      "total_amount    float64\n",
      "dtype: object\n"
     ]
    }
   ],
   "source": [
    "print(laguardia_revenue_2017_df.dtypes)"
   ]
  },
  {
   "cell_type": "code",
   "execution_count": 65,
   "id": "c52d0c22",
   "metadata": {},
   "outputs": [
    {
     "data": {
      "text/plain": [
       "total_amount    3486432.37\n",
       "dtype: float64"
      ]
     },
     "execution_count": 65,
     "metadata": {},
     "output_type": "execute_result"
    }
   ],
   "source": [
    "laguardia_revenue_2017_df.sum()"
   ]
  },
  {
   "cell_type": "code",
   "execution_count": 66,
   "id": "813ee22a",
   "metadata": {},
   "outputs": [],
   "source": [
    "queens_dropoffs_2017_df = pd.read_sql(\"SELECT total_amount FROM [2017_taxi_trips] LEFT JOIN taxi_zones ON [2017_taxi_trips].DOLocationID = taxi_zones.LocationID WHERE Borough = 'Queens'\", conn)"
   ]
  },
  {
   "cell_type": "code",
   "execution_count": 67,
   "id": "63d77878",
   "metadata": {},
   "outputs": [],
   "source": [
    "queens_dropoffs_2017_df['total_amount'] = pd.to_numeric(queens_dropoffs_2017_df['total_amount'])"
   ]
  },
  {
   "cell_type": "code",
   "execution_count": 68,
   "id": "840fe7e2",
   "metadata": {},
   "outputs": [
    {
     "data": {
      "text/plain": [
       "total_amount    46291046.52\n",
       "dtype: float64"
      ]
     },
     "execution_count": 68,
     "metadata": {},
     "output_type": "execute_result"
    }
   ],
   "source": [
    "queens_dropoffs_2017_df.sum()"
   ]
  },
  {
   "cell_type": "code",
   "execution_count": 69,
   "id": "471739fe",
   "metadata": {},
   "outputs": [],
   "source": [
    "queens_dropoffs_2018_df = pd.read_sql(\"SELECT total_amount FROM [2018_taxi_trips] LEFT JOIN taxi_zones ON [2018_taxi_trips].DOLocationID = taxi_zones.LocationID WHERE Borough = 'Queens'\", conn)"
   ]
  },
  {
   "cell_type": "code",
   "execution_count": 70,
   "id": "d70357a7",
   "metadata": {},
   "outputs": [],
   "source": [
    "queens_dropoffs_2018_df['total_amount'] = pd.to_numeric(queens_dropoffs_2018_df['total_amount'])"
   ]
  },
  {
   "cell_type": "code",
   "execution_count": 71,
   "id": "7e4ffb79",
   "metadata": {},
   "outputs": [
    {
     "data": {
      "text/plain": [
       "total_amount    37382837.3\n",
       "dtype: float64"
      ]
     },
     "execution_count": 71,
     "metadata": {},
     "output_type": "execute_result"
    }
   ],
   "source": [
    "queens_dropoffs_2018_df.sum()"
   ]
  },
  {
   "cell_type": "code",
   "execution_count": 72,
   "id": "caf7469e",
   "metadata": {},
   "outputs": [],
   "source": [
    "queens_dropoffs_2019_df = pd.read_sql(\"SELECT total_amount FROM [2019_taxi_trips] LEFT JOIN taxi_zones ON [2019_taxi_trips].DOLocationID = taxi_zones.LocationID WHERE Borough = 'Queens'\", conn)"
   ]
  },
  {
   "cell_type": "code",
   "execution_count": 73,
   "id": "bc7d5f9e",
   "metadata": {},
   "outputs": [],
   "source": [
    "queens_dropoffs_2019_df['total_amount'] = pd.to_numeric(queens_dropoffs_2019_df['total_amount'])"
   ]
  },
  {
   "cell_type": "code",
   "execution_count": 74,
   "id": "23cd3c70",
   "metadata": {},
   "outputs": [
    {
     "data": {
      "text/plain": [
       "total_amount    27665339.64\n",
       "dtype: float64"
      ]
     },
     "execution_count": 74,
     "metadata": {},
     "output_type": "execute_result"
    }
   ],
   "source": [
    "queens_dropoffs_2019_df.sum()"
   ]
  },
  {
   "cell_type": "code",
   "execution_count": 75,
   "id": "735f3b1d",
   "metadata": {},
   "outputs": [],
   "source": [
    "queens_dropoffs_2020_df = pd.read_sql(\"SELECT total_amount FROM [2020_taxi_trips] LEFT JOIN taxi_zones ON [2020_taxi_trips].DOLocationID = taxi_zones.LocationID WHERE Borough = 'Queens'\", conn)"
   ]
  },
  {
   "cell_type": "code",
   "execution_count": 76,
   "id": "24a08a75",
   "metadata": {},
   "outputs": [],
   "source": [
    "queens_dropoffs_2020_df['total_amount'] = pd.to_numeric(queens_dropoffs_2020_df['total_amount'])"
   ]
  },
  {
   "cell_type": "code",
   "execution_count": 77,
   "id": "879335a3",
   "metadata": {},
   "outputs": [
    {
     "data": {
      "text/plain": [
       "total_amount    8034318.5\n",
       "dtype: float64"
      ]
     },
     "execution_count": 77,
     "metadata": {},
     "output_type": "execute_result"
    }
   ],
   "source": [
    "queens_dropoffs_2020_df.sum()"
   ]
  },
  {
   "cell_type": "code",
   "execution_count": 78,
   "id": "3fc5e5ba-ded5-4f50-a888-d9b02b8e3b14",
   "metadata": {},
   "outputs": [],
   "source": [
    "brooklyn_dropoffs_2017_df = pd.read_sql(\"SELECT total_amount FROM [2017_taxi_trips] LEFT JOIN taxi_zones ON [2017_taxi_trips].DOLocationID = taxi_zones.LocationID WHERE Borough = 'Brooklyn'\", conn)"
   ]
  },
  {
   "cell_type": "code",
   "execution_count": 79,
   "id": "cfe0c0e0-e4c9-47a1-a85d-d19caacf689d",
   "metadata": {},
   "outputs": [],
   "source": [
    "brooklyn_dropoffs_2017_df['total_amount'] = pd.to_numeric(queens_dropoffs_2017_df['total_amount'])"
   ]
  },
  {
   "cell_type": "code",
   "execution_count": 80,
   "id": "c533f1bc-4d22-48c2-9a64-e18de3acc393",
   "metadata": {},
   "outputs": [
    {
     "data": {
      "text/plain": [
       "total_amount    46291046.52\n",
       "dtype: float64"
      ]
     },
     "execution_count": 80,
     "metadata": {},
     "output_type": "execute_result"
    }
   ],
   "source": [
    "brooklyn_dropoffs_2017_df.sum()"
   ]
  },
  {
   "cell_type": "code",
   "execution_count": 81,
   "id": "918e888b-9a64-4d96-b15c-a9d3ec42dac3",
   "metadata": {},
   "outputs": [],
   "source": [
    "brooklyn_dropoffs_2018_df = pd.read_sql(\"SELECT total_amount FROM [2018_taxi_trips] LEFT JOIN taxi_zones ON [2018_taxi_trips].DOLocationID = taxi_zones.LocationID WHERE Borough = 'Brooklyn'\", conn)"
   ]
  },
  {
   "cell_type": "code",
   "execution_count": 82,
   "id": "ca0725fc-a6cb-44ce-acdc-2aeaaa497566",
   "metadata": {},
   "outputs": [],
   "source": [
    "brooklyn_dropoffs_2018_df['total_amount'] = pd.to_numeric(queens_dropoffs_2018_df['total_amount'])"
   ]
  },
  {
   "cell_type": "code",
   "execution_count": 83,
   "id": "511f50cc-c28d-4b6a-851c-ce258bdf516f",
   "metadata": {},
   "outputs": [
    {
     "data": {
      "text/plain": [
       "total_amount    35093407.18\n",
       "dtype: float64"
      ]
     },
     "execution_count": 83,
     "metadata": {},
     "output_type": "execute_result"
    }
   ],
   "source": [
    "brooklyn_dropoffs_2018_df.sum()"
   ]
  },
  {
   "cell_type": "code",
   "execution_count": 84,
   "id": "42046ecb-ba7c-47e8-976c-6d7cfb3ec26b",
   "metadata": {},
   "outputs": [],
   "source": [
    "brooklyn_dropoffs_2019_df = pd.read_sql(\"SELECT total_amount FROM [2019_taxi_trips] LEFT JOIN taxi_zones ON [2019_taxi_trips].DOLocationID = taxi_zones.LocationID WHERE Borough = 'Brooklyn'\", conn)"
   ]
  },
  {
   "cell_type": "code",
   "execution_count": 85,
   "id": "aa6127a3-55a8-491c-9e50-3883ea01581a",
   "metadata": {},
   "outputs": [],
   "source": [
    "brooklyn_dropoffs_2019_df['total_amount'] = pd.to_numeric(queens_dropoffs_2019_df['total_amount'])"
   ]
  },
  {
   "cell_type": "code",
   "execution_count": 86,
   "id": "73aaf504-5b1d-42f1-8524-00ecbf4c28bc",
   "metadata": {},
   "outputs": [
    {
     "data": {
      "text/plain": [
       "total_amount    24137883.44\n",
       "dtype: float64"
      ]
     },
     "execution_count": 86,
     "metadata": {},
     "output_type": "execute_result"
    }
   ],
   "source": [
    "brooklyn_dropoffs_2019_df.sum()"
   ]
  },
  {
   "cell_type": "code",
   "execution_count": 89,
   "id": "7dd8eaa7-ff2f-4cb6-8383-2d302c884516",
   "metadata": {},
   "outputs": [],
   "source": [
    "brooklyn_dropoffs_2020_df = pd.read_sql(\"SELECT total_amount FROM [2020_taxi_trips] LEFT JOIN taxi_zones ON [2020_taxi_trips].DOLocationID = taxi_zones.LocationID WHERE Borough = 'Brooklyn'\", conn)"
   ]
  },
  {
   "cell_type": "code",
   "execution_count": 90,
   "id": "3015182d-a14f-4a1f-aca4-f18d0deaca15",
   "metadata": {},
   "outputs": [],
   "source": [
    "brooklyn_dropoffs_2020_df['total_amount'] = pd.to_numeric(queens_dropoffs_2020_df['total_amount'])"
   ]
  },
  {
   "cell_type": "code",
   "execution_count": 91,
   "id": "81634810-beb3-4bb3-8c13-a6a88145e828",
   "metadata": {},
   "outputs": [
    {
     "data": {
      "text/plain": [
       "total_amount    24137883.44\n",
       "dtype: float64"
      ]
     },
     "execution_count": 91,
     "metadata": {},
     "output_type": "execute_result"
    }
   ],
   "source": [
    "brooklyn_dropoffs_2019_df.sum()"
   ]
  },
  {
   "cell_type": "code",
   "execution_count": null,
   "id": "010da944-0e78-473a-a68c-2fc194542cd8",
   "metadata": {},
   "outputs": [],
   "source": []
  }
 ],
 "metadata": {
  "kernelspec": {
   "display_name": "Python 3 (ipykernel)",
   "language": "python",
   "name": "python3"
  },
  "language_info": {
   "codemirror_mode": {
    "name": "ipython",
    "version": 3
   },
   "file_extension": ".py",
   "mimetype": "text/x-python",
   "name": "python",
   "nbconvert_exporter": "python",
   "pygments_lexer": "ipython3",
   "version": "3.9.7"
  }
 },
 "nbformat": 4,
 "nbformat_minor": 5
}
