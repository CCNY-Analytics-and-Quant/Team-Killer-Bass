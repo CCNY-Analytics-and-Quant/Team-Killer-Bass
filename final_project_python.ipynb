{
 "cells": [
  {
   "cell_type": "code",
   "execution_count": 6,
   "id": "1b83d7db-cc6b-4b07-85ac-25598918b8d7",
   "metadata": {},
   "outputs": [],
   "source": [
    "import pandas as pd\n",
    "import pyodbc\n",
    "\n",
    "def mssql_connection(password: str, username: str, default_db: str = \"master\"):\n",
    "                     server = \"localhost\"\n",
    "                     \n",
    "                     cnxn = pyodbc.connect(\n",
    "                         \"DRIVER={ODBC Driver 17 for SQL Server};SERVER=\"\n",
    "                         + server\n",
    "                         + \";DATABASE=\"\n",
    "                         + default_db\n",
    "                         + \";UID=\"\n",
    "                         + username\n",
    "                         + \";PWD=\"\n",
    "                         +password\n",
    "                     )\n",
    "                     return cnxn"
   ]
  },
  {
   "cell_type": "code",
   "execution_count": 7,
   "id": "96604aac-3666-4a0d-baca-085ca409c325",
   "metadata": {},
   "outputs": [],
   "source": [
    "conn = mssql_connection(password= \"\" , username= \"\" , default_db=\"summer_2022\")"
   ]
  },
  {
   "cell_type": "code",
   "execution_count": 8,
   "id": "32091702-7758-40d5-8b0f-db62a53af1c5",
   "metadata": {},
   "outputs": [],
   "source": [
    "laguardia_revenue_2017_df = pd.read_sql(\"SELECT total_amount FROM [2017_taxi_trips] LEFT JOIN taxi_zones ON [2017_taxi_trips].DOLocationID = taxi_zones.LocationID WHERE Zone = 'LaGuardia Airport'\", conn)"
   ]
  },
  {
   "cell_type": "code",
   "execution_count": 9,
   "id": "38ceb8b0-db2b-4913-8e10-2059cdab4424",
   "metadata": {},
   "outputs": [
    {
     "data": {
      "text/html": [
       "<div>\n",
       "<style scoped>\n",
       "    .dataframe tbody tr th:only-of-type {\n",
       "        vertical-align: middle;\n",
       "    }\n",
       "\n",
       "    .dataframe tbody tr th {\n",
       "        vertical-align: top;\n",
       "    }\n",
       "\n",
       "    .dataframe thead th {\n",
       "        text-align: right;\n",
       "    }\n",
       "</style>\n",
       "<table border=\"1\" class=\"dataframe\">\n",
       "  <thead>\n",
       "    <tr style=\"text-align: right;\">\n",
       "      <th></th>\n",
       "      <th>total_amount</th>\n",
       "    </tr>\n",
       "  </thead>\n",
       "  <tbody>\n",
       "    <tr>\n",
       "      <th>0</th>\n",
       "      <td>7.3</td>\n",
       "    </tr>\n",
       "    <tr>\n",
       "      <th>1</th>\n",
       "      <td>7.3</td>\n",
       "    </tr>\n",
       "    <tr>\n",
       "      <th>2</th>\n",
       "      <td>12.8</td>\n",
       "    </tr>\n",
       "    <tr>\n",
       "      <th>3</th>\n",
       "      <td>12.8</td>\n",
       "    </tr>\n",
       "    <tr>\n",
       "      <th>4</th>\n",
       "      <td>12.8</td>\n",
       "    </tr>\n",
       "    <tr>\n",
       "      <th>...</th>\n",
       "      <td>...</td>\n",
       "    </tr>\n",
       "    <tr>\n",
       "      <th>133250</th>\n",
       "      <td>39.96</td>\n",
       "    </tr>\n",
       "    <tr>\n",
       "      <th>133251</th>\n",
       "      <td>40</td>\n",
       "    </tr>\n",
       "    <tr>\n",
       "      <th>133252</th>\n",
       "      <td>36.3</td>\n",
       "    </tr>\n",
       "    <tr>\n",
       "      <th>133253</th>\n",
       "      <td>41.76</td>\n",
       "    </tr>\n",
       "    <tr>\n",
       "      <th>133254</th>\n",
       "      <td>47.84</td>\n",
       "    </tr>\n",
       "  </tbody>\n",
       "</table>\n",
       "<p>133255 rows × 1 columns</p>\n",
       "</div>"
      ],
      "text/plain": [
       "       total_amount\n",
       "0               7.3\n",
       "1               7.3\n",
       "2              12.8\n",
       "3              12.8\n",
       "4              12.8\n",
       "...             ...\n",
       "133250        39.96\n",
       "133251           40\n",
       "133252         36.3\n",
       "133253        41.76\n",
       "133254        47.84\n",
       "\n",
       "[133255 rows x 1 columns]"
      ]
     },
     "execution_count": 9,
     "metadata": {},
     "output_type": "execute_result"
    }
   ],
   "source": [
    "\n",
    "laguardia_revenue_2017_df"
   ]
  },
  {
   "cell_type": "code",
   "execution_count": 10,
   "id": "7a28a461-4e23-473c-908b-18c2c07fc5d1",
   "metadata": {},
   "outputs": [
    {
     "name": "stdout",
     "output_type": "stream",
     "text": [
      "total_amount    object\n",
      "dtype: object\n"
     ]
    }
   ],
   "source": [
    "print(laguardia_revenue_2017_df.dtypes)"
   ]
  },
  {
   "cell_type": "code",
   "execution_count": 11,
   "id": "3f6ecb92-04bc-4066-b17e-261b380caa36",
   "metadata": {},
   "outputs": [],
   "source": [
    "laguardia_revenue_2017_df['total_amount'] = pd.to_numeric(laguardia_revenue_2017_df['total_amount'])\n"
   ]
  },
  {
   "cell_type": "code",
   "execution_count": 12,
   "id": "d3395e44-6eec-4059-b174-d394cad83ff8",
   "metadata": {},
   "outputs": [
    {
     "name": "stdout",
     "output_type": "stream",
     "text": [
      "total_amount    float64\n",
      "dtype: object\n"
     ]
    }
   ],
   "source": [
    "print(laguardia_revenue_2017_df.dtypes)"
   ]
  },
  {
   "cell_type": "code",
   "execution_count": 13,
   "id": "a1b2112f-7a54-4c77-a15d-dbb224d63544",
   "metadata": {},
   "outputs": [
    {
     "data": {
      "text/plain": [
       "total_amount    3486432.37\n",
       "dtype: float64"
      ]
     },
     "execution_count": 13,
     "metadata": {},
     "output_type": "execute_result"
    }
   ],
   "source": [
    "laguardia_revenue_2017_df.sum()"
   ]
  },
  {
   "cell_type": "code",
   "execution_count": 14,
   "id": "031cc85c-53be-42f2-9b58-84f19cfb912a",
   "metadata": {},
   "outputs": [],
   "source": [
    "queens_dropoffs_2017_df = pd.read_sql(\"SELECT total_amount FROM [2017_taxi_trips] LEFT JOIN taxi_zones ON [2017_taxi_trips].DOLocationID = taxi_zones.LocationID WHERE Borough = 'Queens'\", conn)"
   ]
  },
  {
   "cell_type": "code",
   "execution_count": 15,
   "id": "df900284-8b71-4b00-a799-a13cb2574df4",
   "metadata": {},
   "outputs": [],
   "source": [
    "queens_dropoffs_2017_df['total_amount'] = pd.to_numeric(queens_dropoffs_2017_df['total_amount'])"
   ]
  },
  {
   "cell_type": "code",
   "execution_count": 16,
   "id": "61f1ebb4-3e55-4183-bb9b-08872fa8d031",
   "metadata": {},
   "outputs": [
    {
     "data": {
      "text/plain": [
       "total_amount    46291046.52\n",
       "dtype: float64"
      ]
     },
     "execution_count": 16,
     "metadata": {},
     "output_type": "execute_result"
    }
   ],
   "source": [
    "queens_dropoffs_2017_df.sum()"
   ]
  },
  {
   "cell_type": "code",
   "execution_count": 17,
   "id": "9a742dbd-d409-4299-a705-27c6642bab79",
   "metadata": {},
   "outputs": [],
   "source": [
    "queens_dropoffs_2018_df = pd.read_sql(\"SELECT total_amount FROM [2018_taxi_trips] LEFT JOIN taxi_zones ON [2018_taxi_trips].DOLocationID = taxi_zones.LocationID WHERE Borough = 'Queens'\", conn)"
   ]
  },
  {
   "cell_type": "code",
   "execution_count": 18,
   "id": "af225572-ce2e-4cc0-a07a-69d2c10f95a7",
   "metadata": {},
   "outputs": [],
   "source": [
    "queens_dropoffs_2018_df['total_amount'] = pd.to_numeric(queens_dropoffs_2018_df['total_amount'])"
   ]
  },
  {
   "cell_type": "code",
   "execution_count": 19,
   "id": "93e0d2d6-d241-4de8-b1e6-d08351c96aac",
   "metadata": {},
   "outputs": [
    {
     "data": {
      "text/plain": [
       "total_amount    37382837.3\n",
       "dtype: float64"
      ]
     },
     "execution_count": 19,
     "metadata": {},
     "output_type": "execute_result"
    }
   ],
   "source": [
    "queens_dropoffs_2018_df.sum()"
   ]
  },
  {
   "cell_type": "code",
   "execution_count": 22,
   "id": "22fd1950-faa5-486a-83f7-6607de393a4f",
   "metadata": {},
   "outputs": [],
   "source": [
    "queens_dropoffs_2019_df = pd.read_sql(\"SELECT total_amount FROM [2019_taxi_trips] LEFT JOIN taxi_zones ON [2019_taxi_trips].DOLocationID = taxi_zones.LocationID WHERE Borough = 'Queens'\", conn)"
   ]
  },
  {
   "cell_type": "code",
   "execution_count": 23,
   "id": "1b2e8cda-71a1-4575-8754-bc48c1faff26",
   "metadata": {},
   "outputs": [],
   "source": [
    "queens_dropoffs_2019_df['total_amount'] = pd.to_numeric(queens_dropoffs_2019_df['total_amount'])"
   ]
  },
  {
   "cell_type": "code",
   "execution_count": 24,
   "id": "d546b9b4-591a-4bb0-9183-44b74e6e8f9a",
   "metadata": {},
   "outputs": [
    {
     "data": {
      "text/plain": [
       "total_amount    27665339.64\n",
       "dtype: float64"
      ]
     },
     "execution_count": 24,
     "metadata": {},
     "output_type": "execute_result"
    }
   ],
   "source": [
    "queens_dropoffs_2019_df.sum()"
   ]
  },
  {
   "cell_type": "code",
   "execution_count": 25,
   "id": "507aef1a-708f-4571-9968-a43614d692e4",
   "metadata": {},
   "outputs": [],
   "source": [
    "queens_dropoffs_2020_df = pd.read_sql(\"SELECT total_amount FROM [2020_taxi_trips] LEFT JOIN taxi_zones ON [2020_taxi_trips].DOLocationID = taxi_zones.LocationID WHERE Borough = 'Queens'\", conn)"
   ]
  },
  {
   "cell_type": "code",
   "execution_count": 26,
   "id": "5400614c-69e4-48a9-b544-a57f4b9e679f",
   "metadata": {},
   "outputs": [],
   "source": [
    "queens_dropoffs_2020_df['total_amount'] = pd.to_numeric(queens_dropoffs_2020_df['total_amount'])"
   ]
  },
  {
   "cell_type": "code",
   "execution_count": 27,
   "id": "edcb7368-d0f1-4626-8090-01bf89b31f5b",
   "metadata": {},
   "outputs": [
    {
     "data": {
      "text/plain": [
       "total_amount    8034318.5\n",
       "dtype: float64"
      ]
     },
     "execution_count": 27,
     "metadata": {},
     "output_type": "execute_result"
    }
   ],
   "source": [
    "queens_dropoffs_2020_df.sum()"
   ]
  },
  {
   "cell_type": "code",
   "execution_count": null,
   "id": "b8575592-4455-49c5-a2ed-cbf752baffea",
   "metadata": {},
   "outputs": [],
   "source": []
  }
 ],
 "metadata": {
  "kernelspec": {
   "display_name": "Python 3 (ipykernel)",
   "language": "python",
   "name": "python3"
  },
  "language_info": {
   "codemirror_mode": {
    "name": "ipython",
    "version": 3
   },
   "file_extension": ".py",
   "mimetype": "text/x-python",
   "name": "python",
   "nbconvert_exporter": "python",
   "pygments_lexer": "ipython3",
   "version": "3.9.7"
  }
 },
 "nbformat": 4,
 "nbformat_minor": 5
}
