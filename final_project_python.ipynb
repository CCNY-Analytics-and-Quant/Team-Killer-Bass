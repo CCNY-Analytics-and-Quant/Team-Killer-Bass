{
 "cells": [
  {
   "cell_type": "code",
   "execution_count": 6,
   "id": "b4fad414",
   "metadata": {},
   "outputs": [],
   "source": [
    "import pandas as pd\n",
    "import pyodbc\n",
    "\n",
    "def mssql_connection(password: str, username: str, default_db: str = \"master\"):\n",
    "                     server = \"localhost\"\n",
    "                     \n",
    "                     cnxn = pyodbc.connect(\n",
    "                         \"DRIVER={ODBC Driver 17 for SQL Server};SERVER=\"\n",
    "                         + server\n",
    "                         + \";DATABASE=\"\n",
    "                         + default_db\n",
    "                         + \";UID=\"\n",
    "                         + username\n",
    "                         + \";PWD=\"\n",
    "                         +password\n",
    "                     )\n",
    "                     return cnxn"
   ]
  },
  {
   "cell_type": "code",
   "execution_count": 7,
   "id": "59d4570c",
   "metadata": {},
   "outputs": [],
   "source": [
    "conn = mssql_connection(password= \"CCny23881629\" , username= \"kaylacephus29\" , default_db=\"summer_2022\")"
   ]
  },
  {
   "cell_type": "code",
   "execution_count": 8,
   "id": "1b2eaf46",
   "metadata": {},
   "outputs": [],
   "source": [
    "laguardia_revenue_2017_df = pd.read_sql(\"SELECT total_amount FROM [2017_taxi_trips] LEFT JOIN taxi_zones ON [2017_taxi_trips].DOLocationID = taxi_zones.LocationID WHERE Zone = 'LaGuardia Airport'\", conn)"
   ]
  },
  {
   "cell_type": "code",
   "execution_count": 9,
   "id": "471eaa93",
   "metadata": {},
   "outputs": [
    {
     "data": {
      "text/html": [
       "<div>\n",
       "<style scoped>\n",
       "    .dataframe tbody tr th:only-of-type {\n",
       "        vertical-align: middle;\n",
       "    }\n",
       "\n",
       "    .dataframe tbody tr th {\n",
       "        vertical-align: top;\n",
       "    }\n",
       "\n",
       "    .dataframe thead th {\n",
       "        text-align: right;\n",
       "    }\n",
       "</style>\n",
       "<table border=\"1\" class=\"dataframe\">\n",
       "  <thead>\n",
       "    <tr style=\"text-align: right;\">\n",
       "      <th></th>\n",
       "      <th>total_amount</th>\n",
       "    </tr>\n",
       "  </thead>\n",
       "  <tbody>\n",
       "    <tr>\n",
       "      <th>0</th>\n",
       "      <td>6.8</td>\n",
       "    </tr>\n",
       "    <tr>\n",
       "      <th>1</th>\n",
       "      <td>12.3</td>\n",
       "    </tr>\n",
       "    <tr>\n",
       "      <th>2</th>\n",
       "      <td>12.3</td>\n",
       "    </tr>\n",
       "    <tr>\n",
       "      <th>3</th>\n",
       "      <td>12.3</td>\n",
       "    </tr>\n",
       "    <tr>\n",
       "      <th>4</th>\n",
       "      <td>12.3</td>\n",
       "    </tr>\n",
       "    <tr>\n",
       "      <th>...</th>\n",
       "      <td>...</td>\n",
       "    </tr>\n",
       "    <tr>\n",
       "      <th>133250</th>\n",
       "      <td>53.16</td>\n",
       "    </tr>\n",
       "    <tr>\n",
       "      <th>133251</th>\n",
       "      <td>45.96</td>\n",
       "    </tr>\n",
       "    <tr>\n",
       "      <th>133252</th>\n",
       "      <td>38.76</td>\n",
       "    </tr>\n",
       "    <tr>\n",
       "      <th>133253</th>\n",
       "      <td>52.45</td>\n",
       "    </tr>\n",
       "    <tr>\n",
       "      <th>133254</th>\n",
       "      <td>40.3</td>\n",
       "    </tr>\n",
       "  </tbody>\n",
       "</table>\n",
       "<p>133255 rows × 1 columns</p>\n",
       "</div>"
      ],
      "text/plain": [
       "       total_amount\n",
       "0               6.8\n",
       "1              12.3\n",
       "2              12.3\n",
       "3              12.3\n",
       "4              12.3\n",
       "...             ...\n",
       "133250        53.16\n",
       "133251        45.96\n",
       "133252        38.76\n",
       "133253        52.45\n",
       "133254         40.3\n",
       "\n",
       "[133255 rows x 1 columns]"
      ]
     },
     "execution_count": 9,
     "metadata": {},
     "output_type": "execute_result"
    }
   ],
   "source": [
    "\n",
    "laguardia_revenue_2017_df"
   ]
  },
  {
   "cell_type": "code",
   "execution_count": 10,
   "id": "6474a83d",
   "metadata": {},
   "outputs": [
    {
     "name": "stdout",
     "output_type": "stream",
     "text": [
      "total_amount    object\n",
      "dtype: object\n"
     ]
    }
   ],
   "source": [
    "print(laguardia_revenue_2017_df.dtypes)"
   ]
  },
  {
   "cell_type": "code",
   "execution_count": 11,
   "id": "03e86b68",
   "metadata": {},
   "outputs": [],
   "source": [
    "laguardia_revenue_2017_df['total_amount'] = pd.to_numeric(laguardia_revenue_2017_df['total_amount'])\n"
   ]
  },
  {
   "cell_type": "code",
   "execution_count": 12,
   "id": "ec8930d1",
   "metadata": {},
   "outputs": [
    {
     "name": "stdout",
     "output_type": "stream",
     "text": [
      "total_amount    float64\n",
      "dtype: object\n"
     ]
    }
   ],
   "source": [
    "print(laguardia_revenue_2017_df.dtypes)"
   ]
  },
  {
   "cell_type": "code",
   "execution_count": 13,
   "id": "59d161e4",
   "metadata": {},
   "outputs": [
    {
     "data": {
      "text/plain": [
       "total_amount    3486432.37\n",
       "dtype: float64"
      ]
     },
     "execution_count": 13,
     "metadata": {},
     "output_type": "execute_result"
    }
   ],
   "source": [
    "laguardia_revenue_2017_df.sum()"
   ]
  },
  {
   "cell_type": "code",
   "execution_count": 14,
   "id": "68aa5d39",
   "metadata": {},
   "outputs": [],
   "source": [
    "queens_dropoffs_2017_df = pd.read_sql(\"SELECT total_amount FROM [2017_taxi_trips] LEFT JOIN taxi_zones ON [2017_taxi_trips].DOLocationID = taxi_zones.LocationID WHERE Borough = 'Queens'\", conn)"
   ]
  },
  {
   "cell_type": "code",
   "execution_count": 15,
   "id": "2fb13819",
   "metadata": {},
   "outputs": [],
   "source": [
    "queens_dropoffs_2017_df['total_amount'] = pd.to_numeric(queens_dropoffs_2017_df['total_amount'])"
   ]
  },
  {
   "cell_type": "code",
   "execution_count": 16,
   "id": "d1ee0a3f",
   "metadata": {},
   "outputs": [
    {
     "data": {
      "text/plain": [
       "total_amount    46291046.52\n",
       "dtype: float64"
      ]
     },
     "execution_count": 16,
     "metadata": {},
     "output_type": "execute_result"
    }
   ],
   "source": [
    "queens_dropoffs_2017_df.sum()"
   ]
  },
  {
   "cell_type": "code",
   "execution_count": 17,
   "id": "012c7c51",
   "metadata": {},
   "outputs": [],
   "source": [
    "queens_dropoffs_2018_df = pd.read_sql(\"SELECT total_amount FROM [2018_taxi_trips] LEFT JOIN taxi_zones ON [2018_taxi_trips].DOLocationID = taxi_zones.LocationID WHERE Borough = 'Queens'\", conn)"
   ]
  },
  {
   "cell_type": "code",
   "execution_count": 18,
   "id": "a24ec23a",
   "metadata": {},
   "outputs": [],
   "source": [
    "queens_dropoffs_2018_df['total_amount'] = pd.to_numeric(queens_dropoffs_2018_df['total_amount'])"
   ]
  },
  {
   "cell_type": "code",
   "execution_count": 19,
   "id": "0599a930",
   "metadata": {},
   "outputs": [
    {
     "data": {
      "text/plain": [
       "total_amount    37382837.3\n",
       "dtype: float64"
      ]
     },
     "execution_count": 19,
     "metadata": {},
     "output_type": "execute_result"
    }
   ],
   "source": [
    "queens_dropoffs_2018_df.sum()"
   ]
  },
  {
   "cell_type": "code",
   "execution_count": 20,
   "id": "a7742ea3",
   "metadata": {},
   "outputs": [],
   "source": [
    "queens_dropoffs_2019_df = pd.read_sql(\"SELECT total_amount FROM [2019_taxi_trips] LEFT JOIN taxi_zones ON [2019_taxi_trips].DOLocationID = taxi_zones.LocationID WHERE Borough = 'Queens'\", conn)"
   ]
  },
  {
   "cell_type": "code",
   "execution_count": 21,
   "id": "2928aadb",
   "metadata": {},
   "outputs": [],
   "source": [
    "queens_dropoffs_2019_df['total_amount'] = pd.to_numeric(queens_dropoffs_2019_df['total_amount'])"
   ]
  },
  {
   "cell_type": "code",
   "execution_count": 22,
   "id": "9359d8bd",
   "metadata": {},
   "outputs": [
    {
     "data": {
      "text/plain": [
       "total_amount    27665339.64\n",
       "dtype: float64"
      ]
     },
     "execution_count": 22,
     "metadata": {},
     "output_type": "execute_result"
    }
   ],
   "source": [
    "queens_dropoffs_2019_df.sum()"
   ]
  },
  {
   "cell_type": "code",
   "execution_count": 23,
   "id": "a61f7a76",
   "metadata": {},
   "outputs": [],
   "source": [
    "queens_dropoffs_2020_df = pd.read_sql(\"SELECT total_amount FROM [2020_taxi_trips] LEFT JOIN taxi_zones ON [2020_taxi_trips].DOLocationID = taxi_zones.LocationID WHERE Borough = 'Queens'\", conn)"
   ]
  },
  {
   "cell_type": "code",
   "execution_count": 24,
   "id": "088d0784",
   "metadata": {},
   "outputs": [],
   "source": [
    "queens_dropoffs_2020_df['total_amount'] = pd.to_numeric(queens_dropoffs_2020_df['total_amount'])"
   ]
  },
  {
   "cell_type": "code",
   "execution_count": 25,
   "id": "999a93a6",
   "metadata": {},
   "outputs": [
    {
     "data": {
      "text/plain": [
       "total_amount    8034318.5\n",
       "dtype: float64"
      ]
     },
     "execution_count": 25,
     "metadata": {},
     "output_type": "execute_result"
    }
   ],
   "source": [
    "queens_dropoffs_2020_df.sum()"
   ]
  },
  {
   "cell_type": "code",
   "execution_count": 26,
   "id": "c8748650",
   "metadata": {},
   "outputs": [],
   "source": [
    "manhattan_dropoffs_2017_df = pd.read_sql(\"SELECT total_amount FROM [2017_taxi_trips] LEFT JOIN taxi_zones ON [2017_taxi_trips].DOLocationID = taxi_zones.LocationID WHERE Borough = 'Manhattan'\", conn)"
   ]
  },
  {
   "cell_type": "code",
   "execution_count": 27,
   "id": "edae279a",
   "metadata": {},
   "outputs": [],
   "source": [
    "manhattan_dropoffs_2017_df['total_amount'] = pd.to_numeric(manhattan_dropoffs_2017_df['total_amount'])"
   ]
  },
  {
   "cell_type": "code",
   "execution_count": 28,
   "id": "2826148b",
   "metadata": {
    "tags": []
   },
   "outputs": [
    {
     "data": {
      "text/plain": [
       "total_amount    62565971.38\n",
       "dtype: float64"
      ]
     },
     "execution_count": 28,
     "metadata": {},
     "output_type": "execute_result"
    }
   ],
   "source": [
    "manhattan_dropoffs_2017_df.sum()"
   ]
  },
  {
   "cell_type": "code",
   "execution_count": 29,
   "id": "80d1a58a",
   "metadata": {},
   "outputs": [],
   "source": [
    "manhattan_dropoffs_2018_df = pd.read_sql(\"SELECT total_amount FROM [2018_taxi_trips] LEFT JOIN taxi_zones ON [2018_taxi_trips].DOLocationID = taxi_zones.LocationID WHERE Borough = 'Manhattan'\", conn)"
   ]
  },
  {
   "cell_type": "code",
   "execution_count": 30,
   "id": "9851d21c",
   "metadata": {},
   "outputs": [],
   "source": [
    "manhattan_dropoffs_2018_df['total_amount'] = pd.to_numeric(manhattan_dropoffs_2018_df['total_amount'])"
   ]
  },
  {
   "cell_type": "code",
   "execution_count": 31,
   "id": "b92212ee",
   "metadata": {},
   "outputs": [
    {
     "data": {
      "text/plain": [
       "total_amount    50505523.37\n",
       "dtype: float64"
      ]
     },
     "execution_count": 31,
     "metadata": {},
     "output_type": "execute_result"
    }
   ],
   "source": [
    "manhattan_dropoffs_2018_df.sum()"
   ]
  },
  {
   "cell_type": "code",
   "execution_count": 32,
   "id": "fa821cf5",
   "metadata": {},
   "outputs": [],
   "source": [
    "manhattan_dropoffs_2019_df = pd.read_sql(\"SELECT total_amount FROM [2019_taxi_trips] LEFT JOIN taxi_zones ON [2019_taxi_trips].DOLocationID = taxi_zones.LocationID WHERE Borough = 'Manhattan'\", conn)"
   ]
  },
  {
   "cell_type": "code",
   "execution_count": 33,
   "id": "4f354beb",
   "metadata": {},
   "outputs": [],
   "source": [
    "manhattan_dropoffs_2019_df['total_amount'] = pd.to_numeric(manhattan_dropoffs_2019_df['total_amount'])"
   ]
  },
  {
   "cell_type": "code",
   "execution_count": 34,
   "id": "6bae1d97",
   "metadata": {},
   "outputs": [
    {
     "data": {
      "text/plain": [
       "total_amount    38538406.38\n",
       "dtype: float64"
      ]
     },
     "execution_count": 34,
     "metadata": {},
     "output_type": "execute_result"
    }
   ],
   "source": [
    "manhattan_dropoffs_2019_df.sum()"
   ]
  },
  {
   "cell_type": "code",
   "execution_count": 35,
   "id": "38ddda79-1e12-48aa-98ba-5773942509dd",
   "metadata": {},
   "outputs": [],
   "source": [
    "manhattan_dropoffs_2020_df = pd.read_sql(\"SELECT total_amount FROM [2020_taxi_trips] LEFT JOIN taxi_zones ON [2020_taxi_trips].DOLocationID = taxi_zones.LocationID WHERE Borough = 'Manhattan'\", conn)"
   ]
  },
  {
   "cell_type": "code",
   "execution_count": 36,
   "id": "335e6fda-21ad-4bc5-8388-2d5548921c33",
   "metadata": {},
   "outputs": [],
   "source": [
    "manhattan_dropoffs_2020_df['total_amount'] = pd.to_numeric(manhattan_dropoffs_2020_df['total_amount'])"
   ]
  },
  {
   "cell_type": "code",
   "execution_count": 37,
   "id": "5abea3c1-cab1-419e-ab99-79e1fe987e68",
   "metadata": {},
   "outputs": [
    {
     "data": {
      "text/plain": [
       "total_amount    12315543.0\n",
       "dtype: float64"
      ]
     },
     "execution_count": 37,
     "metadata": {},
     "output_type": "execute_result"
    }
   ],
   "source": [
    "manhattan_dropoffs_2020_df.sum()"
   ]
  },
  {
   "cell_type": "code",
   "execution_count": 38,
   "id": "dfb793f8",
   "metadata": {},
   "outputs": [],
   "source": [
    "brooklyn_dropoffs_2017_df = pd.read_sql(\"SELECT total_amount FROM [2017_taxi_trips] LEFT JOIN taxi_zones ON [2017_taxi_trips].DOLocationID = taxi_zones.LocationID WHERE Borough = 'Brooklyn'\", conn)"
   ]
  },
  {
   "cell_type": "code",
   "execution_count": 39,
   "id": "77a56b86",
   "metadata": {},
   "outputs": [],
   "source": [
    "brooklyn_dropoffs_2017_df['total_amount'] = pd.to_numeric(queens_dropoffs_2017_df['total_amount'])"
   ]
  },
  {
   "cell_type": "code",
   "execution_count": 40,
   "id": "dd490a29",
   "metadata": {},
   "outputs": [
    {
     "data": {
      "text/plain": [
       "total_amount    46291046.52\n",
       "dtype: float64"
      ]
     },
     "execution_count": 40,
     "metadata": {},
     "output_type": "execute_result"
    }
   ],
   "source": [
    "brooklyn_dropoffs_2017_df.sum()"
   ]
  },
  {
   "cell_type": "code",
   "execution_count": 41,
   "id": "c495d9ed",
   "metadata": {},
   "outputs": [],
   "source": [
    "brooklyn_dropoffs_2018_df = pd.read_sql(\"SELECT total_amount FROM [2018_taxi_trips] LEFT JOIN taxi_zones ON [2018_taxi_trips].DOLocationID = taxi_zones.LocationID WHERE Borough = 'Brooklyn'\", conn)"
   ]
  },
  {
   "cell_type": "code",
   "execution_count": 42,
   "id": "17d77c3a",
   "metadata": {},
   "outputs": [],
   "source": [
    "brooklyn_dropoffs_2018_df['total_amount'] = pd.to_numeric(queens_dropoffs_2018_df['total_amount'])"
   ]
  },
  {
   "cell_type": "code",
   "execution_count": 43,
   "id": "a6db4863",
   "metadata": {},
   "outputs": [
    {
     "data": {
      "text/plain": [
       "total_amount    35043642.93\n",
       "dtype: float64"
      ]
     },
     "execution_count": 43,
     "metadata": {},
     "output_type": "execute_result"
    }
   ],
   "source": [
    "brooklyn_dropoffs_2018_df.sum()"
   ]
  },
  {
   "cell_type": "code",
   "execution_count": 44,
   "id": "55d28de8",
   "metadata": {},
   "outputs": [],
   "source": [
    "brooklyn_dropoffs_2019_df = pd.read_sql(\"SELECT total_amount FROM [2019_taxi_trips] LEFT JOIN taxi_zones ON [2019_taxi_trips].DOLocationID = taxi_zones.LocationID WHERE Borough = 'Brooklyn'\", conn)"
   ]
  },
  {
   "cell_type": "code",
   "execution_count": 45,
   "id": "d5d6ca59",
   "metadata": {},
   "outputs": [],
   "source": [
    "brooklyn_dropoffs_2019_df['total_amount'] = pd.to_numeric(queens_dropoffs_2019_df['total_amount'])"
   ]
  },
  {
   "cell_type": "code",
   "execution_count": 46,
   "id": "1a4c258a",
   "metadata": {},
   "outputs": [
    {
     "data": {
      "text/plain": [
       "total_amount    24131131.4\n",
       "dtype: float64"
      ]
     },
     "execution_count": 46,
     "metadata": {},
     "output_type": "execute_result"
    }
   ],
   "source": [
    "brooklyn_dropoffs_2019_df.sum()"
   ]
  },
  {
   "cell_type": "code",
   "execution_count": 47,
   "id": "5c9dc0e3",
   "metadata": {},
   "outputs": [],
   "source": [
    "brooklyn_dropoffs_2020_df = pd.read_sql(\"SELECT total_amount FROM [2020_taxi_trips] LEFT JOIN taxi_zones ON [2020_taxi_trips].DOLocationID = taxi_zones.LocationID WHERE Borough = 'Brooklyn'\", conn)"
   ]
  },
  {
   "cell_type": "code",
   "execution_count": 48,
   "id": "8ae8a558",
   "metadata": {},
   "outputs": [],
   "source": [
    "brooklyn_dropoffs_2020_df['total_amount'] = pd.to_numeric(queens_dropoffs_2020_df['total_amount'])"
   ]
  },
  {
   "cell_type": "code",
   "execution_count": 49,
   "id": "72c2f7ca",
   "metadata": {},
   "outputs": [
    {
     "data": {
      "text/plain": [
       "total_amount    8034318.5\n",
       "dtype: float64"
      ]
     },
     "execution_count": 49,
     "metadata": {},
     "output_type": "execute_result"
    }
   ],
   "source": [
    "brooklyn_dropoffs_2020_df.sum()"
   ]
  },
  {
   "cell_type": "code",
   "execution_count": 50,
   "id": "bc2189a6-8839-4511-93dc-ed6eadaae90e",
   "metadata": {},
   "outputs": [],
   "source": [
    "bronx_dropoffs_2017_df = pd.read_sql(\"SELECT total_amount FROM [2017_taxi_trips] LEFT JOIN taxi_zones ON [2017_taxi_trips].DOLocationID = taxi_zones.LocationID WHERE Borough = 'Bronx'\", conn)"
   ]
  },
  {
   "cell_type": "code",
   "execution_count": 51,
   "id": "1e33eee1-aaf8-43ea-889d-b50bab57a27a",
   "metadata": {},
   "outputs": [],
   "source": [
    "bronx_dropoffs_2017_df['total_amount'] = pd.to_numeric(bronx_dropoffs_2017_df['total_amount'])"
   ]
  },
  {
   "cell_type": "code",
   "execution_count": 52,
   "id": "69eace35-2ee7-4116-825e-955d89fd0cb5",
   "metadata": {},
   "outputs": [
    {
     "data": {
      "text/plain": [
       "total_amount    9928249.64\n",
       "dtype: float64"
      ]
     },
     "execution_count": 52,
     "metadata": {},
     "output_type": "execute_result"
    }
   ],
   "source": [
    "bronx_dropoffs_2017_df.sum()"
   ]
  },
  {
   "cell_type": "code",
   "execution_count": 53,
   "id": "0d4dac90-fd86-4411-b6c5-96d900fab243",
   "metadata": {},
   "outputs": [],
   "source": [
    "bronx_dropoffs_2018_df = pd.read_sql(\"SELECT total_amount FROM [2018_taxi_trips] LEFT JOIN taxi_zones ON [2018_taxi_trips].DOLocationID = taxi_zones.LocationID WHERE Borough = 'Bronx'\", conn)"
   ]
  },
  {
   "cell_type": "code",
   "execution_count": 54,
   "id": "c28dc745-8812-4b30-ab35-7b05fd268dd0",
   "metadata": {},
   "outputs": [],
   "source": [
    "bronx_dropoffs_2018_df['total_amount'] = pd.to_numeric(bronx_dropoffs_2018_df['total_amount'])"
   ]
  },
  {
   "cell_type": "code",
   "execution_count": 55,
   "id": "7a1d29a4-d26e-4a4f-abcb-31a0576244a4",
   "metadata": {},
   "outputs": [
    {
     "data": {
      "text/plain": [
       "total_amount    11379278.97\n",
       "dtype: float64"
      ]
     },
     "execution_count": 55,
     "metadata": {},
     "output_type": "execute_result"
    }
   ],
   "source": [
    "bronx_dropoffs_2018_df.sum()"
   ]
  },
  {
   "cell_type": "code",
   "execution_count": 56,
   "id": "d55be530-b583-4b11-ab3d-bef977533e72",
   "metadata": {},
   "outputs": [],
   "source": [
    "bronx_dropoffs_2019_df = pd.read_sql(\"SELECT total_amount FROM [2019_taxi_trips] LEFT JOIN taxi_zones ON [2019_taxi_trips].DOLocationID = taxi_zones.LocationID WHERE Borough = 'Bronx'\", conn)"
   ]
  },
  {
   "cell_type": "code",
   "execution_count": 57,
   "id": "ce5dd1b5-c769-43f0-ab9a-97a1278ea3d6",
   "metadata": {},
   "outputs": [],
   "source": [
    "bronx_dropoffs_2019_df['total_amount'] = pd.to_numeric(bronx_dropoffs_2019_df['total_amount'])"
   ]
  },
  {
   "cell_type": "code",
   "execution_count": 58,
   "id": "07911b36-2b69-4eb6-9c2c-d0c0fa0ba1ad",
   "metadata": {},
   "outputs": [
    {
     "data": {
      "text/plain": [
       "total_amount    9899715.19\n",
       "dtype: float64"
      ]
     },
     "execution_count": 58,
     "metadata": {},
     "output_type": "execute_result"
    }
   ],
   "source": [
    "bronx_dropoffs_2019_df.sum()"
   ]
  },
  {
   "cell_type": "code",
   "execution_count": 59,
   "id": "356bd5c3-3161-4cff-a06c-d401099c7299",
   "metadata": {},
   "outputs": [],
   "source": [
    "bronx_dropoffs_2020_df = pd.read_sql(\"SELECT total_amount FROM [2020_taxi_trips] LEFT JOIN taxi_zones ON [2020_taxi_trips].DOLocationID = taxi_zones.LocationID WHERE Borough = 'Bronx'\", conn)"
   ]
  },
  {
   "cell_type": "code",
   "execution_count": 60,
   "id": "09640c6c-bb19-4ac5-ac25-8f7d5419bfc3",
   "metadata": {},
   "outputs": [],
   "source": [
    "bronx_dropoffs_2020_df['total_amount'] = pd.to_numeric(bronx_dropoffs_2020_df['total_amount'])"
   ]
  },
  {
   "cell_type": "code",
   "execution_count": 61,
   "id": "315c6964-3a21-46ee-a87b-3c0a0d5c42c7",
   "metadata": {},
   "outputs": [
    {
     "data": {
      "text/plain": [
       "total_amount    4776169.87\n",
       "dtype: float64"
      ]
     },
     "execution_count": 61,
     "metadata": {},
     "output_type": "execute_result"
    }
   ],
   "source": [
    "bronx_dropoffs_2020_df.sum()"
   ]
  },
  {
   "cell_type": "code",
   "execution_count": 62,
   "id": "93bb4bcc-a95e-4088-b8cf-62813005d8d7",
   "metadata": {},
   "outputs": [],
   "source": [
    "statenisland_dropoffs_2017_df = pd.read_sql(\"SELECT total_amount FROM [2017_taxi_trips] LEFT JOIN taxi_zones ON [2017_taxi_trips].DOLocationID = taxi_zones.LocationID WHERE Borough = 'Staten Island'\", conn)"
   ]
  },
  {
   "cell_type": "code",
   "execution_count": 63,
   "id": "73b6f470-a1c3-4104-9047-7907ba1b8f8a",
   "metadata": {},
   "outputs": [],
   "source": [
    "statenisland_dropoffs_2017_df['total_amount'] = pd.to_numeric(statenisland_dropoffs_2017_df['total_amount'])"
   ]
  },
  {
   "cell_type": "code",
   "execution_count": 64,
   "id": "2605b3cd-73a9-45c7-8e43-33ba5ee5ed50",
   "metadata": {},
   "outputs": [
    {
     "data": {
      "text/plain": [
       "total_amount    195428.88\n",
       "dtype: float64"
      ]
     },
     "execution_count": 64,
     "metadata": {},
     "output_type": "execute_result"
    }
   ],
   "source": [
    "statenisland_dropoffs_2017_df.sum()"
   ]
  },
  {
   "cell_type": "code",
   "execution_count": 65,
   "id": "6b001f56-c113-4dac-9db0-109df4738deb",
   "metadata": {},
   "outputs": [],
   "source": [
    "statenisland_dropoffs_2018_df = pd.read_sql(\"SELECT total_amount FROM [2018_taxi_trips] LEFT JOIN taxi_zones ON [2018_taxi_trips].DOLocationID = taxi_zones.LocationID WHERE Borough = 'Staten Island'\", conn)"
   ]
  },
  {
   "cell_type": "code",
   "execution_count": 66,
   "id": "d4ac8784-f0d2-4f02-b753-1ff4c79d9522",
   "metadata": {},
   "outputs": [],
   "source": [
    "statenisland_dropoffs_2018_df['total_amount'] = pd.to_numeric(statenisland_dropoffs_2018_df['total_amount'])"
   ]
  },
  {
   "cell_type": "code",
   "execution_count": 67,
   "id": "d15ada34-440f-4ee4-bde4-2aad11d76f73",
   "metadata": {},
   "outputs": [
    {
     "data": {
      "text/plain": [
       "total_amount    326057.54\n",
       "dtype: float64"
      ]
     },
     "execution_count": 67,
     "metadata": {},
     "output_type": "execute_result"
    }
   ],
   "source": [
    "statenisland_dropoffs_2018_df.sum()"
   ]
  },
  {
   "cell_type": "code",
   "execution_count": 68,
   "id": "130095e6-d132-4cd5-a0af-20805c92d553",
   "metadata": {},
   "outputs": [],
   "source": [
    "statenisland_dropoffs_2019_df = pd.read_sql(\"SELECT total_amount FROM [2019_taxi_trips] LEFT JOIN taxi_zones ON [2019_taxi_trips].DOLocationID = taxi_zones.LocationID WHERE Borough = 'Staten Island'\", conn)"
   ]
  },
  {
   "cell_type": "code",
   "execution_count": 69,
   "id": "70cef61d-c190-4eff-89a5-efc323a6d6c7",
   "metadata": {},
   "outputs": [],
   "source": [
    "statenisland_dropoffs_2019_df['total_amount'] = pd.to_numeric(statenisland_dropoffs_2019_df['total_amount'])"
   ]
  },
  {
   "cell_type": "code",
   "execution_count": 70,
   "id": "5a3d8dda-2cb0-4029-b690-644c11b2969c",
   "metadata": {},
   "outputs": [
    {
     "data": {
      "text/plain": [
       "total_amount    259603.82\n",
       "dtype: float64"
      ]
     },
     "execution_count": 70,
     "metadata": {},
     "output_type": "execute_result"
    }
   ],
   "source": [
    "statenisland_dropoffs_2019_df.sum()"
   ]
  },
  {
   "cell_type": "code",
   "execution_count": 71,
   "id": "7bb6bb64-e675-4915-b1c6-e66257885812",
   "metadata": {},
   "outputs": [],
   "source": [
    "statenisland_dropoffs_2020_df = pd.read_sql(\"SELECT total_amount FROM [2020_taxi_trips] LEFT JOIN taxi_zones ON [2020_taxi_trips].DOLocationID = taxi_zones.LocationID WHERE Borough = 'Staten Island'\", conn)"
   ]
  },
  {
   "cell_type": "code",
   "execution_count": 72,
   "id": "bc03cfca-a1b1-4e91-a67e-d66b0fedc285",
   "metadata": {},
   "outputs": [],
   "source": [
    "statenisland_dropoffs_2020_df['total_amount'] = pd.to_numeric(statenisland_dropoffs_2020_df['total_amount'])"
   ]
  },
  {
   "cell_type": "code",
   "execution_count": 73,
   "id": "46d37037-1445-47c5-b1d5-3afe0bad7f30",
   "metadata": {},
   "outputs": [
    {
     "data": {
      "text/plain": [
       "total_amount    141605.27\n",
       "dtype: float64"
      ]
     },
     "execution_count": 73,
     "metadata": {},
     "output_type": "execute_result"
    }
   ],
   "source": [
    "statenisland_dropoffs_2020_df.sum()"
   ]
  },
  {
   "cell_type": "code",
   "execution_count": 74,
   "id": "86265bb2-da60-42bc-b56c-deb564d4cf3f",
   "metadata": {},
   "outputs": [],
   "source": [
    "unknown_dropoffs_2017_df = pd.read_sql(\"SELECT total_amount FROM [2017_taxi_trips] LEFT JOIN taxi_zones ON [2017_taxi_trips].DOLocationID = taxi_zones.LocationID WHERE Borough = 'Unknown'\", conn)"
   ]
  },
  {
   "cell_type": "code",
   "execution_count": 75,
   "id": "4955f8e9-8174-43f6-b8a2-19c0867e3a0a",
   "metadata": {},
   "outputs": [],
   "source": [
    "unknown_dropoffs_2017_df['total_amount'] = pd.to_numeric(unknown_dropoffs_2017_df['total_amount'])"
   ]
  },
  {
   "cell_type": "code",
   "execution_count": 76,
   "id": "cbb8054a-6dd0-450d-bd12-d460ed65fe23",
   "metadata": {},
   "outputs": [
    {
     "data": {
      "text/plain": [
       "total_amount    1425060.7\n",
       "dtype: float64"
      ]
     },
     "execution_count": 76,
     "metadata": {},
     "output_type": "execute_result"
    }
   ],
   "source": [
    "unknown_dropoffs_2017_df.sum()"
   ]
  },
  {
   "cell_type": "code",
   "execution_count": 77,
   "id": "fdd07d65-26f9-4cff-b0b7-0c47480aa23a",
   "metadata": {},
   "outputs": [],
   "source": [
    "unknown_dropoffs_2018_df = pd.read_sql(\"SELECT total_amount FROM [2018_taxi_trips] LEFT JOIN taxi_zones ON [2018_taxi_trips].DOLocationID = taxi_zones.LocationID WHERE Borough = 'Unknown'\", conn)"
   ]
  },
  {
   "cell_type": "code",
   "execution_count": 78,
   "id": "4eab259d-d287-4ae6-af7b-a2172ec4c268",
   "metadata": {},
   "outputs": [],
   "source": [
    "unknown_dropoffs_2018_df['total_amount'] = pd.to_numeric(statenisland_dropoffs_2018_df['total_amount'])"
   ]
  },
  {
   "cell_type": "code",
   "execution_count": 79,
   "id": "ff0d1b23-5947-44fc-90e7-185381ff8702",
   "metadata": {},
   "outputs": [
    {
     "data": {
      "text/plain": [
       "total_amount    326057.54\n",
       "dtype: float64"
      ]
     },
     "execution_count": 79,
     "metadata": {},
     "output_type": "execute_result"
    }
   ],
   "source": [
    "unknown_dropoffs_2018_df.sum()"
   ]
  },
  {
   "cell_type": "code",
   "execution_count": 80,
   "id": "9da8e91b-2f1f-4572-ae54-45127e044e5c",
   "metadata": {},
   "outputs": [],
   "source": [
    "unknown_dropoffs_2019_df = pd.read_sql(\"SELECT total_amount FROM [2019_taxi_trips] LEFT JOIN taxi_zones ON [2019_taxi_trips].DOLocationID = taxi_zones.LocationID WHERE Borough = 'Unknown'\", conn)"
   ]
  },
  {
   "cell_type": "code",
   "execution_count": 81,
   "id": "4be8a172-f263-4ef2-ad43-640145eb9a42",
   "metadata": {},
   "outputs": [],
   "source": [
    "unknown_dropoffs_2019_df['total_amount'] = pd.to_numeric(unknown_dropoffs_2019_df['total_amount'])"
   ]
  },
  {
   "cell_type": "code",
   "execution_count": 82,
   "id": "7a6f232b-3db0-4c26-82fc-d339e0738800",
   "metadata": {},
   "outputs": [
    {
     "data": {
      "text/plain": [
       "total_amount    1297115.75\n",
       "dtype: float64"
      ]
     },
     "execution_count": 82,
     "metadata": {},
     "output_type": "execute_result"
    }
   ],
   "source": [
    "unknown_dropoffs_2019_df.sum()"
   ]
  },
  {
   "cell_type": "code",
   "execution_count": 83,
   "id": "4b927ee1-30bf-4390-84e7-c47296f78a1f",
   "metadata": {},
   "outputs": [],
   "source": [
    "unknown_dropoffs_2020_df = pd.read_sql(\"SELECT total_amount FROM [2020_taxi_trips] LEFT JOIN taxi_zones ON [2020_taxi_trips].DOLocationID = taxi_zones.LocationID WHERE Borough = 'Unknown'\", conn)"
   ]
  },
  {
   "cell_type": "code",
   "execution_count": 84,
   "id": "72ccc943-e772-44e3-8d4f-6fc1d443b320",
   "metadata": {},
   "outputs": [],
   "source": [
    "unknown_dropoffs_2020_df['total_amount'] = pd.to_numeric(unknown_dropoffs_2020_df['total_amount'])"
   ]
  },
  {
   "cell_type": "code",
   "execution_count": 85,
   "id": "5070f011-966f-4969-8f6c-4713c4ea5d08",
   "metadata": {},
   "outputs": [
    {
     "data": {
      "text/plain": [
       "total_amount    410474.82\n",
       "dtype: float64"
      ]
     },
     "execution_count": 85,
     "metadata": {},
     "output_type": "execute_result"
    }
   ],
   "source": [
    "unknown_dropoffs_2020_df.sum()"
   ]
  },
  {
   "cell_type": "code",
   "execution_count": 86,
   "id": "2b2261b5-9c83-4371-b2e8-1b0b7a76769a",
   "metadata": {},
   "outputs": [],
   "source": [
    "newarkairport_dropoffs_2017_df = pd.read_sql(\"SELECT total_amount FROM [2017_taxi_trips] LEFT JOIN taxi_zones ON [2017_taxi_trips].DOLocationID = taxi_zones.LocationID WHERE Zone = 'Newark Airport'\", conn)"
   ]
  },
  {
   "cell_type": "code",
   "execution_count": 87,
   "id": "c0d58d2b-51bc-49cd-a8b3-06f89670f234",
   "metadata": {},
   "outputs": [],
   "source": [
    "newarkairport_dropoffs_2017_df['total_amount'] = pd.to_numeric(newarkairport_dropoffs_2017_df['total_amount'])"
   ]
  },
  {
   "cell_type": "code",
   "execution_count": 88,
   "id": "a12de883-92ef-467f-967a-1d586d1c215c",
   "metadata": {},
   "outputs": [
    {
     "data": {
      "text/plain": [
       "total_amount    459698.67\n",
       "dtype: float64"
      ]
     },
     "execution_count": 88,
     "metadata": {},
     "output_type": "execute_result"
    }
   ],
   "source": [
    "newarkairport_dropoffs_2017_df.sum()"
   ]
  },
  {
   "cell_type": "code",
   "execution_count": 89,
   "id": "8af8d7c2-7432-4c09-95dc-b94841f54c95",
   "metadata": {},
   "outputs": [],
   "source": [
    "newarkairport_dropoffs_2018_df = pd.read_sql(\"SELECT total_amount FROM [2018_taxi_trips] LEFT JOIN taxi_zones ON [2018_taxi_trips].DOLocationID = taxi_zones.LocationID WHERE Zone = 'Newark Airport'\", conn)"
   ]
  },
  {
   "cell_type": "code",
   "execution_count": 90,
   "id": "7b19bf4f-38bb-4e6b-98d9-5ac59cabe6aa",
   "metadata": {},
   "outputs": [],
   "source": [
    "newarkairport_dropoffs_2018_df['total_amount'] = pd.to_numeric(newarkairport_dropoffs_2018_df['total_amount'])"
   ]
  },
  {
   "cell_type": "code",
   "execution_count": 91,
   "id": "12bbfd5f-8fd6-46ba-b835-3a091f6937b9",
   "metadata": {},
   "outputs": [
    {
     "data": {
      "text/plain": [
       "total_amount    298594.12\n",
       "dtype: float64"
      ]
     },
     "execution_count": 91,
     "metadata": {},
     "output_type": "execute_result"
    }
   ],
   "source": [
    "newarkairport_dropoffs_2018_df.sum()"
   ]
  },
  {
   "cell_type": "code",
   "execution_count": 92,
   "id": "6969e475-2c65-49dc-9acb-105b27db9a0c",
   "metadata": {},
   "outputs": [],
   "source": [
    "newarkairport_dropoffs_2019_df = pd.read_sql(\"SELECT total_amount FROM [2019_taxi_trips] LEFT JOIN taxi_zones ON [2019_taxi_trips].DOLocationID = taxi_zones.LocationID WHERE Zone = 'Newark Airport'\", conn)"
   ]
  },
  {
   "cell_type": "code",
   "execution_count": 93,
   "id": "da2fa986-638e-4d74-99cb-61d8b47abb96",
   "metadata": {},
   "outputs": [],
   "source": [
    "newarkairport_dropoffs_2019_df['total_amount'] = pd.to_numeric(newarkairport_dropoffs_2019_df['total_amount'])"
   ]
  },
  {
   "cell_type": "code",
   "execution_count": 94,
   "id": "988678ef-5be8-4506-b58f-364c0e8e3dc6",
   "metadata": {},
   "outputs": [
    {
     "data": {
      "text/plain": [
       "total_amount    208490.38\n",
       "dtype: float64"
      ]
     },
     "execution_count": 94,
     "metadata": {},
     "output_type": "execute_result"
    }
   ],
   "source": [
    "newarkairport_dropoffs_2019_df.sum()"
   ]
  },
  {
   "cell_type": "code",
   "execution_count": 95,
   "id": "762dd7d0-6527-49ff-b6a6-cf4a3565d463",
   "metadata": {},
   "outputs": [],
   "source": [
    "newarkairport_dropoffs_2020_df = pd.read_sql(\"SELECT total_amount FROM [2020_taxi_trips] LEFT JOIN taxi_zones ON [2020_taxi_trips].DOLocationID = taxi_zones.LocationID WHERE Zone = 'Newark Airport'\", conn)"
   ]
  },
  {
   "cell_type": "code",
   "execution_count": 96,
   "id": "9f4aa1a3-f71a-42de-9920-504dbe8dfd88",
   "metadata": {},
   "outputs": [],
   "source": [
    "newarkairport_dropoffs_2020_df['total_amount'] = pd.to_numeric(newarkairport_dropoffs_2020_df['total_amount'])"
   ]
  },
  {
   "cell_type": "code",
   "execution_count": 97,
   "id": "d17c713e-b185-4360-8dec-524b485a18c1",
   "metadata": {},
   "outputs": [
    {
     "data": {
      "text/plain": [
       "total_amount    36971.76\n",
       "dtype: float64"
      ]
     },
     "execution_count": 97,
     "metadata": {},
     "output_type": "execute_result"
    }
   ],
   "source": [
    "newarkairport_dropoffs_2020_df.sum()"
   ]
  }
 ],
 "metadata": {
  "kernelspec": {
   "display_name": "Python 3 (ipykernel)",
   "language": "python",
   "name": "python3"
  },
  "language_info": {
   "codemirror_mode": {
    "name": "ipython",
    "version": 3
   },
   "file_extension": ".py",
   "mimetype": "text/x-python",
   "name": "python",
   "nbconvert_exporter": "python",
   "pygments_lexer": "ipython3",
   "version": "3.9.7"
  }
 },
 "nbformat": 4,
 "nbformat_minor": 5
}
