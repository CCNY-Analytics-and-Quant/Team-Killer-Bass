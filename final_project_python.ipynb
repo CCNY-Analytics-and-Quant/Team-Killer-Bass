{
 "cells": [
  {
   "cell_type": "code",
   "execution_count": 2,
   "id": "1b83d7db-cc6b-4b07-85ac-25598918b8d7",
   "metadata": {},
   "outputs": [],
   "source": [
    "import pandas as pd\n",
    "import pyodbc\n",
    "\n",
    "def mssql_connection(password: str, username: str, default_db: str = \"master\"):\n",
    "                     server = \"localhost\"\n",
    "                     \n",
    "                     cnxn = pyodbc.connect(\n",
    "                         \"DRIVER={ODBC Driver 17 for SQL Server};SERVER=\"\n",
    "                         + server\n",
    "                         + \";DATABASE=\"\n",
    "                         + default_db\n",
    "                         + \";UID=\"\n",
    "                         + username\n",
    "                         + \";PWD=\"\n",
    "                         +password\n",
    "                     )\n",
    "                     return cnxn"
   ]
  },
  {
   "cell_type": "code",
   "execution_count": 3,
   "id": "96604aac-3666-4a0d-baca-085ca409c325",
   "metadata": {},
   "outputs": [],
   "source": [
    "conn = mssql_connection(password= \"CCny23912093\" , username= \"SarahMcKoy93\" , default_db=\"summer_2022\")"
   ]
  },
  {
   "cell_type": "code",
   "execution_count": 4,
   "id": "32091702-7758-40d5-8b0f-db62a53af1c5",
   "metadata": {},
   "outputs": [],
   "source": [
    "laguardia_revenue_2017_df = pd.read_sql(\"SELECT total_amount FROM [2017_taxi_trips] LEFT JOIN taxi_zones ON [2017_taxi_trips].DOLocationID = taxi_zones.LocationID WHERE Zone = 'LaGuardia Airport'\", conn)"
   ]
  },
  {
   "cell_type": "code",
   "execution_count": 5,
   "id": "38ceb8b0-db2b-4913-8e10-2059cdab4424",
   "metadata": {},
   "outputs": [
    {
     "data": {
      "text/html": [
       "<div>\n",
       "<style scoped>\n",
       "    .dataframe tbody tr th:only-of-type {\n",
       "        vertical-align: middle;\n",
       "    }\n",
       "\n",
       "    .dataframe tbody tr th {\n",
       "        vertical-align: top;\n",
       "    }\n",
       "\n",
       "    .dataframe thead th {\n",
       "        text-align: right;\n",
       "    }\n",
       "</style>\n",
       "<table border=\"1\" class=\"dataframe\">\n",
       "  <thead>\n",
       "    <tr style=\"text-align: right;\">\n",
       "      <th></th>\n",
       "      <th>total_amount</th>\n",
       "    </tr>\n",
       "  </thead>\n",
       "  <tbody>\n",
       "    <tr>\n",
       "      <th>0</th>\n",
       "      <td>5.3</td>\n",
       "    </tr>\n",
       "    <tr>\n",
       "      <th>1</th>\n",
       "      <td>13.8</td>\n",
       "    </tr>\n",
       "    <tr>\n",
       "      <th>2</th>\n",
       "      <td>13.8</td>\n",
       "    </tr>\n",
       "    <tr>\n",
       "      <th>3</th>\n",
       "      <td>13.8</td>\n",
       "    </tr>\n",
       "    <tr>\n",
       "      <th>4</th>\n",
       "      <td>13.8</td>\n",
       "    </tr>\n",
       "    <tr>\n",
       "      <th>...</th>\n",
       "      <td>...</td>\n",
       "    </tr>\n",
       "    <tr>\n",
       "      <th>133250</th>\n",
       "      <td>17.3</td>\n",
       "    </tr>\n",
       "    <tr>\n",
       "      <th>133251</th>\n",
       "      <td>14.8</td>\n",
       "    </tr>\n",
       "    <tr>\n",
       "      <th>133252</th>\n",
       "      <td>16.8</td>\n",
       "    </tr>\n",
       "    <tr>\n",
       "      <th>133253</th>\n",
       "      <td>14.3</td>\n",
       "    </tr>\n",
       "    <tr>\n",
       "      <th>133254</th>\n",
       "      <td>17.8</td>\n",
       "    </tr>\n",
       "  </tbody>\n",
       "</table>\n",
       "<p>133255 rows × 1 columns</p>\n",
       "</div>"
      ],
      "text/plain": [
       "       total_amount\n",
       "0               5.3\n",
       "1              13.8\n",
       "2              13.8\n",
       "3              13.8\n",
       "4              13.8\n",
       "...             ...\n",
       "133250         17.3\n",
       "133251         14.8\n",
       "133252         16.8\n",
       "133253         14.3\n",
       "133254         17.8\n",
       "\n",
       "[133255 rows x 1 columns]"
      ]
     },
     "execution_count": 5,
     "metadata": {},
     "output_type": "execute_result"
    }
   ],
   "source": [
    "laguardia_revenue_2017_df"
   ]
  },
  {
   "cell_type": "code",
   "execution_count": 6,
   "id": "69a4be42-3627-4f8d-8ba3-8ba395d93026",
   "metadata": {},
   "outputs": [
    {
     "name": "stdout",
     "output_type": "stream",
     "text": [
      "total_amount    object\n",
      "dtype: object\n"
     ]
    }
   ],
   "source": [
    "print(laguardia_revenue_2017_df.dtypes)"
   ]
  },
  {
   "cell_type": "code",
   "execution_count": 7,
   "id": "91f0198f-69e4-4082-8248-7d762df9df3c",
   "metadata": {},
   "outputs": [],
   "source": [
    "laguardia_revenue_2017_df['total_amount'] = pd.to_numeric(laguardia_revenue_2017_df['total_amount'])"
   ]
  },
  {
   "cell_type": "code",
   "execution_count": 8,
   "id": "e38d5868-9440-4bd7-93ef-82995048843e",
   "metadata": {},
   "outputs": [
    {
     "name": "stdout",
     "output_type": "stream",
     "text": [
      "total_amount    float64\n",
      "dtype: object\n"
     ]
    }
   ],
   "source": [
    "print(laguardia_revenue_2017_df.dtypes)"
   ]
  },
  {
   "cell_type": "code",
   "execution_count": 9,
   "id": "953d3ffc-4fae-456c-a65d-f5541affaf87",
   "metadata": {},
   "outputs": [
    {
     "data": {
      "text/plain": [
       "total_amount    3486432.37\n",
       "dtype: float64"
      ]
     },
     "execution_count": 9,
     "metadata": {},
     "output_type": "execute_result"
    }
   ],
   "source": [
    "laguardia_revenue_2017_df.sum()"
   ]
  },
  {
   "cell_type": "code",
   "execution_count": 10,
   "id": "53a877c7-c8ea-4140-b56d-3516f930c5fe",
   "metadata": {},
   "outputs": [],
   "source": [
    "queens_dropoffs_2017_df = pd.read_sql(\"SELECT total_amount FROM [2017_taxi_trips] LEFT JOIN taxi_zones ON [2017_taxi_trips].DOLocationID = taxi_zones.LocationID WHERE Borough = 'Queens'\", conn)"
   ]
  },
  {
   "cell_type": "code",
   "execution_count": 11,
   "id": "b4afdb60-eaeb-4991-8041-67a81b19b96b",
   "metadata": {},
   "outputs": [],
   "source": [
    "queens_dropoffs_2017_df['total_amount'] = pd.to_numeric(queens_dropoffs_2017_df['total_amount'])"
   ]
  },
  {
   "cell_type": "code",
   "execution_count": 12,
   "id": "6153ec3b-ec27-4bff-b307-038695118581",
   "metadata": {},
   "outputs": [
    {
     "data": {
      "text/plain": [
       "total_amount    46291046.52\n",
       "dtype: float64"
      ]
     },
     "execution_count": 12,
     "metadata": {},
     "output_type": "execute_result"
    }
   ],
   "source": [
    "queens_dropoffs_2017_df.sum()"
   ]
  },
  {
   "cell_type": "code",
   "execution_count": null,
   "id": "51a8fa34-7cff-42bc-a1b9-431d173896e7",
   "metadata": {},
   "outputs": [],
   "source": []
  }
 ],
 "metadata": {
  "kernelspec": {
   "display_name": "Python 3 (ipykernel)",
   "language": "python",
   "name": "python3"
  },
  "language_info": {
   "codemirror_mode": {
    "name": "ipython",
    "version": 3
   },
   "file_extension": ".py",
   "mimetype": "text/x-python",
   "name": "python",
   "nbconvert_exporter": "python",
   "pygments_lexer": "ipython3",
   "version": "3.9.7"
  }
 },
 "nbformat": 4,
 "nbformat_minor": 5
}
