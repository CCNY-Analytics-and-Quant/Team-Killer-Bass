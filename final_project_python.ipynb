{
 "cells": [
  {
   "cell_type": "code",
   "execution_count": 8,
   "id": "1b83d7db-cc6b-4b07-85ac-25598918b8d7",
   "metadata": {},
   "outputs": [],
   "source": [
    "import pandas as pd\n",
    "import pyodbc\n",
    "\n",
    "def mssql_connection(password: str, username: str, default_db: str = \"master\"):\n",
    "                     server = \"localhost\"\n",
    "                     \n",
    "                     cnxm = pyodbc.commect(\n",
    "                         \"DRIVER={ODBC Driver 17 for SQL Server};SERVER=\"\n",
    "                         + server\n",
    "                         + \";DATABASE=\"\n",
    "                         + default_db\n",
    "                         + \";UID=\"\n",
    "                         + USERNAME\n",
    "                         + \";PWD=\"\n",
    "                         +password\n",
    "                     )\n",
    "                     return cnxn"
   ]
  },
  {
   "cell_type": "code",
   "execution_count": 9,
   "id": "96604aac-3666-4a0d-baca-085ca409c325",
   "metadata": {},
   "outputs": [
    {
     "ename": "SyntaxError",
     "evalue": "unexpected EOF while parsing (2577090380.py, line 1)",
     "output_type": "error",
     "traceback": [
      "\u001b[0;36m  File \u001b[0;32m\"/tmp/ipykernel_451800/2577090380.py\"\u001b[0;36m, line \u001b[0;32m1\u001b[0m\n\u001b[0;31m    conn = mssql_connection(password= \"CCny23912093\" , username= \"SarahMcKoy93\" , default_db=\"summer_2022\"\u001b[0m\n\u001b[0m                                                                                                          ^\u001b[0m\n\u001b[0;31mSyntaxError\u001b[0m\u001b[0;31m:\u001b[0m unexpected EOF while parsing\n"
     ]
    }
   ],
   "source": [
    "conn = mssql_connection(password= \"\" , username= \"SarahMcK\" , default_db=\"summer_2022\""
   ]
  },
  {
   "cell_type": "code",
   "execution_count": null,
   "id": "32091702-7758-40d5-8b0f-db62a53af1c5",
   "metadata": {},
   "outputs": [],
   "source": []
  }
 ],
 "metadata": {
  "kernelspec": {
   "display_name": "Python 3 (ipykernel)",
   "language": "python",
   "name": "python3"
  },
  "language_info": {
   "codemirror_mode": {
    "name": "ipython",
    "version": 3
   },
   "file_extension": ".py",
   "mimetype": "text/x-python",
   "name": "python",
   "nbconvert_exporter": "python",
   "pygments_lexer": "ipython3",
   "version": "3.9.7"
  }
 },
 "nbformat": 4,
 "nbformat_minor": 5
}
