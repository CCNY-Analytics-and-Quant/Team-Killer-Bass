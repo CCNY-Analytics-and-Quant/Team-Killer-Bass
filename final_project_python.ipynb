{
 "cells": [
  {
   "cell_type": "code",
   "execution_count": null,
   "id": "b4fad414",
   "metadata": {},
   "outputs": [],
   "source": [
    "import pandas as pd\n",
    "import pyodbc\n",
    "\n",
    "def mssql_connection(password: str, username: str, default_db: str = \"master\"):\n",
    "                     server = \"localhost\"\n",
    "                     \n",
    "                     cnxn = pyodbc.connect(\n",
    "                         \"DRIVER={ODBC Driver 17 for SQL Server};SERVER=\"\n",
    "                         + server\n",
    "                         + \";DATABASE=\"\n",
    "                         + default_db\n",
    "                         + \";UID=\"\n",
    "                         + username\n",
    "                         + \";PWD=\"\n",
    "                         +password\n",
    "                     )\n",
    "                     return cnxn"
   ]
  },
  {
   "cell_type": "code",
   "execution_count": null,
   "id": "59d4570c",
   "metadata": {},
   "outputs": [],
   "source": [
    "conn = mssql_connection(password= \"\" , username= \"\" , default_db=\"summer_2022\")"
   ]
  },
  {
   "cell_type": "code",
   "execution_count": null,
   "id": "1b2eaf46",
   "metadata": {},
   "outputs": [],
   "source": [
    "laguardia_revenue_2017_df = pd.read_sql(\"SELECT total_amount FROM [2017_taxi_trips] LEFT JOIN taxi_zones ON [2017_taxi_trips].DOLocationID = taxi_zones.LocationID WHERE Zone = 'LaGuardia Airport'\", conn)"
   ]
  },
  {
   "cell_type": "code",
   "execution_count": null,
   "id": "471eaa93",
   "metadata": {},
   "outputs": [
    {
     "name": "stderr",
     "output_type": "stream",
     "text": [
      "<<<<<<< local <modified: text/html, text/plain>\n"
     ]
    },
    {
     "data": {
      "text/html": [
       "<div>\n",
       "<style scoped>\n",
       "    .dataframe tbody tr th:only-of-type {\n",
       "        vertical-align: middle;\n",
       "    }\n",
       "\n",
       "    .dataframe tbody tr th {\n",
       "        vertical-align: top;\n",
       "    }\n",
       "\n",
       "    .dataframe thead th {\n",
       "        text-align: right;\n",
       "    }\n",
       "</style>\n",
       "<table border=\"1\" class=\"dataframe\">\n",
       "  <thead>\n",
       "    <tr style=\"text-align: right;\">\n",
       "      <th></th>\n",
       "      <th>total_amount</th>\n",
       "    </tr>\n",
       "  </thead>\n",
       "  <tbody>\n",
       "    <tr>\n",
       "      <th>0</th>\n",
       "      <td>7.3</td>\n",
       "    </tr>\n",
       "    <tr>\n",
       "      <th>1</th>\n",
       "      <td>7.3</td>\n",
       "    </tr>\n",
       "    <tr>\n",
       "      <th>2</th>\n",
       "      <td>11.3</td>\n",
       "    </tr>\n",
       "    <tr>\n",
       "      <th>3</th>\n",
       "      <td>11.3</td>\n",
       "    </tr>\n",
       "    <tr>\n",
       "      <th>4</th>\n",
       "      <td>11.3</td>\n",
       "    </tr>\n",
       "    <tr>\n",
       "      <th>...</th>\n",
       "      <td>...</td>\n",
       "    </tr>\n",
       "    <tr>\n",
       "      <th>133250</th>\n",
       "      <td>12.3</td>\n",
       "    </tr>\n",
       "    <tr>\n",
       "      <th>133251</th>\n",
       "      <td>12.3</td>\n",
       "    </tr>\n",
       "    <tr>\n",
       "      <th>133252</th>\n",
       "      <td>12.3</td>\n",
       "    </tr>\n",
       "    <tr>\n",
       "      <th>133253</th>\n",
       "      <td>12.3</td>\n",
       "    </tr>\n",
       "    <tr>\n",
       "      <th>133254</th>\n",
       "      <td>12.3</td>\n",
       "    </tr>\n",
       "  </tbody>\n",
       "</table>\n",
       "<p>133255 rows × 1 columns</p>\n",
       "</div>"
      ],
      "text/plain": [
       "       total_amount\n",
       "0               7.3\n",
       "1               7.3\n",
       "2              11.3\n",
       "3              11.3\n",
       "4              11.3\n",
       "...             ...\n",
       "133250         12.3\n",
       "133251         12.3\n",
       "133252         12.3\n",
       "133253         12.3\n",
       "133254         12.3\n",
       "\n",
       "[133255 rows x 1 columns]"
      ]
     },
     "execution_count": 16,
     "metadata": {},
     "output_type": "execute_result"
    },
    {
     "name": "stderr",
     "output_type": "stream",
     "text": [
      "=======\n"
     ]
    },
    {
     "data": {
      "text/html": [
       "<div>\n",
       "<style scoped>\n",
       "    .dataframe tbody tr th:only-of-type {\n",
       "        vertical-align: middle;\n",
       "    }\n",
       "\n",
       "    .dataframe tbody tr th {\n",
       "        vertical-align: top;\n",
       "    }\n",
       "\n",
       "    .dataframe thead th {\n",
       "        text-align: right;\n",
       "    }\n",
       "</style>\n",
       "<table border=\"1\" class=\"dataframe\">\n",
       "  <thead>\n",
       "    <tr style=\"text-align: right;\">\n",
       "      <th></th>\n",
       "      <th>total_amount</th>\n",
       "    </tr>\n",
       "  </thead>\n",
       "  <tbody>\n",
       "    <tr>\n",
       "      <th>0</th>\n",
       "      <td>5.8</td>\n",
       "    </tr>\n",
       "    <tr>\n",
       "      <th>1</th>\n",
       "      <td>5.8</td>\n",
       "    </tr>\n",
       "    <tr>\n",
       "      <th>2</th>\n",
       "      <td>5.8</td>\n",
       "    </tr>\n",
       "    <tr>\n",
       "      <th>3</th>\n",
       "      <td>12.3</td>\n",
       "    </tr>\n",
       "    <tr>\n",
       "      <th>4</th>\n",
       "      <td>12.3</td>\n",
       "    </tr>\n",
       "    <tr>\n",
       "      <th>...</th>\n",
       "      <td>...</td>\n",
       "    </tr>\n",
       "    <tr>\n",
       "      <th>133250</th>\n",
       "      <td>36.67</td>\n",
       "    </tr>\n",
       "    <tr>\n",
       "      <th>133251</th>\n",
       "      <td>34.87</td>\n",
       "    </tr>\n",
       "    <tr>\n",
       "      <th>133252</th>\n",
       "      <td>43.87</td>\n",
       "    </tr>\n",
       "    <tr>\n",
       "      <th>133253</th>\n",
       "      <td>47.58</td>\n",
       "    </tr>\n",
       "    <tr>\n",
       "      <th>133254</th>\n",
       "      <td>35.06</td>\n",
       "    </tr>\n",
       "  </tbody>\n",
       "</table>\n",
       "<p>133255 rows × 1 columns</p>\n",
       "</div>"
      ],
      "text/plain": [
       "       total_amount\n",
       "0               5.8\n",
       "1               5.8\n",
       "2               5.8\n",
       "3              12.3\n",
       "4              12.3\n",
       "...             ...\n",
       "133250        36.67\n",
       "133251        34.87\n",
       "133252        43.87\n",
       "133253        47.58\n",
       "133254        35.06\n",
       "\n",
       "[133255 rows x 1 columns]"
      ]
     },
     "execution_count": 61,
     "metadata": {},
     "output_type": "execute_result"
    },
    {
     "name": "stderr",
     "output_type": "stream",
     "text": [
      ">>>>>>> remote <modified: text/html, text/plain>\n"
     ]
    }
   ],
   "source": [
    "\n",
    "laguardia_revenue_2017_df"
   ]
  },
  {
   "cell_type": "code",
   "execution_count": null,
   "id": "6474a83d",
   "metadata": {},
   "outputs": [
    {
     "name": "stdout",
     "output_type": "stream",
     "text": [
      "total_amount    object\n",
      "dtype: object\n"
     ]
    }
   ],
   "source": [
    "print(laguardia_revenue_2017_df.dtypes)"
   ]
  },
  {
   "cell_type": "code",
   "execution_count": null,
   "id": "03e86b68",
   "metadata": {},
   "outputs": [],
   "source": [
    "laguardia_revenue_2017_df['total_amount'] = pd.to_numeric(laguardia_revenue_2017_df['total_amount'])\n"
   ]
  },
  {
   "cell_type": "code",
   "execution_count": null,
   "id": "ec8930d1",
   "metadata": {},
   "outputs": [
    {
     "name": "stdout",
     "output_type": "stream",
     "text": [
      "total_amount    float64\n",
      "dtype: object\n"
     ]
    }
   ],
   "source": [
    "print(laguardia_revenue_2017_df.dtypes)"
   ]
  },
  {
   "cell_type": "code",
   "execution_count": null,
   "id": "59d161e4",
   "metadata": {},
   "outputs": [
    {
     "data": {
      "text/plain": [
       "total_amount    3486432.37\n",
       "dtype: float64"
      ]
     },
     "execution_count": null,
     "metadata": {},
     "output_type": "execute_result"
    }
   ],
   "source": [
    "laguardia_revenue_2017_df.sum()"
   ]
  },
  {
   "cell_type": "code",
   "execution_count": 66,
   "id": "68aa5d39",
   "metadata": {},
   "outputs": [],
   "source": [
    "queens_dropoffs_2017_df = pd.read_sql(\"SELECT total_amount FROM [2017_taxi_trips] LEFT JOIN taxi_zones ON [2017_taxi_trips].DOLocationID = taxi_zones.LocationID WHERE Borough = 'Queens'\", conn)"
   ]
  },
  {
   "cell_type": "code",
   "execution_count": 67,
   "id": "2fb13819",
   "metadata": {},
   "outputs": [],
   "source": [
    "queens_dropoffs_2017_df['total_amount'] = pd.to_numeric(queens_dropoffs_2017_df['total_amount'])"
   ]
  },
  {
   "cell_type": "code",
   "execution_count": 68,
   "id": "d1ee0a3f",
   "metadata": {},
   "outputs": [
    {
     "data": {
      "text/plain": [
       "total_amount    46291046.52\n",
       "dtype: float64"
      ]
     },
     "execution_count": 68,
     "metadata": {},
     "output_type": "execute_result"
    }
   ],
   "source": [
    "queens_dropoffs_2017_df.sum()"
   ]
  },
  {
   "cell_type": "code",
   "execution_count": 69,
   "id": "012c7c51",
   "metadata": {},
   "outputs": [],
   "source": [
    "queens_dropoffs_2018_df = pd.read_sql(\"SELECT total_amount FROM [2018_taxi_trips] LEFT JOIN taxi_zones ON [2018_taxi_trips].DOLocationID = taxi_zones.LocationID WHERE Borough = 'Queens'\", conn)"
   ]
  },
  {
   "cell_type": "code",
   "execution_count": 70,
   "id": "a24ec23a",
   "metadata": {},
   "outputs": [],
   "source": [
    "queens_dropoffs_2018_df['total_amount'] = pd.to_numeric(queens_dropoffs_2018_df['total_amount'])"
   ]
  },
  {
   "cell_type": "code",
   "execution_count": 71,
   "id": "0599a930",
   "metadata": {},
   "outputs": [
    {
     "data": {
      "text/plain": [
       "total_amount    37382837.3\n",
       "dtype: float64"
      ]
     },
     "execution_count": 71,
     "metadata": {},
     "output_type": "execute_result"
    }
   ],
   "source": [
    "queens_dropoffs_2018_df.sum()"
   ]
  },
  {
   "cell_type": "code",
   "execution_count": 72,
   "id": "a7742ea3",
   "metadata": {},
   "outputs": [],
   "source": [
    "queens_dropoffs_2019_df = pd.read_sql(\"SELECT total_amount FROM [2019_taxi_trips] LEFT JOIN taxi_zones ON [2019_taxi_trips].DOLocationID = taxi_zones.LocationID WHERE Borough = 'Queens'\", conn)"
   ]
  },
  {
   "cell_type": "code",
   "execution_count": 73,
   "id": "2928aadb",
   "metadata": {},
   "outputs": [],
   "source": [
    "queens_dropoffs_2019_df['total_amount'] = pd.to_numeric(queens_dropoffs_2019_df['total_amount'])"
   ]
  },
  {
   "cell_type": "code",
   "execution_count": 74,
   "id": "9359d8bd",
   "metadata": {},
   "outputs": [
    {
     "data": {
      "text/plain": [
       "total_amount    27665339.64\n",
       "dtype: float64"
      ]
     },
     "execution_count": 74,
     "metadata": {},
     "output_type": "execute_result"
    }
   ],
   "source": [
    "queens_dropoffs_2019_df.sum()"
   ]
  },
  {
   "cell_type": "code",
   "execution_count": null,
   "id": "a61f7a76",
   "metadata": {},
   "outputs": [],
   "source": [
    "queens_dropoffs_2020_df = pd.read_sql(\"SELECT total_amount FROM [2020_taxi_trips] LEFT JOIN taxi_zones ON [2020_taxi_trips].DOLocationID = taxi_zones.LocationID WHERE Borough = 'Queens'\", conn)"
   ]
  },
  {
   "cell_type": "code",
   "execution_count": null,
   "id": "088d0784",
   "metadata": {},
   "outputs": [],
   "source": [
    "queens_dropoffs_2020_df['total_amount'] = pd.to_numeric(queens_dropoffs_2020_df['total_amount'])"
   ]
  },
  {
   "cell_type": "code",
   "execution_count": 23,
   "id": "999a93a6",
   "metadata": {},
   "outputs": [
    {
     "data": {
      "text/plain": [
       "total_amount    46291046.52\n",
       "dtype: float64"
      ]
     },
     "execution_count": 23,
     "metadata": {},
     "output_type": "execute_result"
    }
   ],
   "source": [
    "queens_dropoffs_2017_df.sum()"
   ]
  },
  {
   "cell_type": "code",
   "execution_count": 39,
   "id": "39f10a66",
   "metadata": {},
   "outputs": [
    {
     "data": {
      "text/plain": [
       "total_amount    37382837.3\n",
       "dtype: float64"
      ]
     },
     "execution_count": 39,
     "metadata": {},
     "output_type": "execute_result"
    }
   ],
   "source": [
    "queens_dropoffs_2018_df = pd.read_sql(\"SELECT total_amount FROM [2018_taxi_trips] LEFT JOIN taxi_zones ON [2018_taxi_trips].DOLocationID = taxi_zones.LocationID WHERE Borough = 'Queens'\", conn)\n",
    "queens_dropoffs_2018_df['total_amount'] = pd.to_numeric(queens_dropoffs_2018_df['total_amount'])\n",
    "queens_dropoffs_2018_df.sum()"
   ]
  },
  {
   "cell_type": "code",
   "execution_count": 41,
   "id": "cd8e38d8",
   "metadata": {},
   "outputs": [
    {
     "data": {
      "text/plain": [
       "total_amount    27665339.64\n",
       "dtype: float64"
      ]
     },
     "execution_count": 41,
     "metadata": {},
     "output_type": "execute_result"
    }
   ],
   "source": [
    "queens_dropoffs_2019_df = pd.read_sql(\"SELECT total_amount FROM [2019_taxi_trips] LEFT JOIN taxi_zones ON [2019_taxi_trips].DOLocationID = taxi_zones.LocationID WHERE Borough = 'Queens'\", conn)\n",
    "queens_dropoffs_2019_df['total_amount'] = pd.to_numeric(queens_dropoffs_2019_df['total_amount'])\n",
    "queens_dropoffs_2019_df.sum()"
   ]
  },
  {
   "cell_type": "code",
   "execution_count": 42,
   "id": "ef89c27b",
   "metadata": {},
   "outputs": [
    {
     "data": {
      "text/plain": [
       "total_amount    8034318.5\n",
       "dtype: float64"
      ]
     },
     "execution_count": 42,
     "metadata": {},
     "output_type": "execute_result"
    }
   ],
   "source": [
    "queens_dropoffs_2020_df = pd.read_sql(\"SELECT total_amount FROM [2020_taxi_trips] LEFT JOIN taxi_zones ON [2020_taxi_trips].DOLocationID = taxi_zones.LocationID WHERE Borough = 'Queens'\", conn)\n",
    "queens_dropoffs_2020_df['total_amount'] = pd.to_numeric(queens_dropoffs_2020_df['total_amount'])\n",
    "queens_dropoffs_2020_df.sum()"
   ]
  },
  {
   "cell_type": "code",
   "execution_count": 43,
   "id": "c8748650",
   "metadata": {},
   "outputs": [],
   "source": [
    "manhattan_dropoffs_2017_df = pd.read_sql(\"SELECT total_amount FROM [2017_taxi_trips] LEFT JOIN taxi_zones ON [2017_taxi_trips].DOLocationID = taxi_zones.LocationID WHERE Borough = 'Manhattan'\", conn)"
   ]
  },
  {
   "cell_type": "code",
   "execution_count": 44,
   "id": "edae279a",
   "metadata": {},
   "outputs": [],
   "source": [
    "manhattan_dropoffs_2017_df['total_amount'] = pd.to_numeric(manhattan_dropoffs_2017_df['total_amount'])"
   ]
  },
  {
   "cell_type": "code",
   "execution_count": 45,
   "id": "2826148b",
   "metadata": {
    "tags": []
   },
   "outputs": [
    {
     "data": {
      "text/plain": [
       "total_amount    62565971.38\n",
       "dtype: float64"
      ]
     },
     "execution_count": 45,
     "metadata": {},
     "output_type": "execute_result"
    }
   ],
   "source": [
    "manhattan_dropoffs_2017_df.sum()"
   ]
  },
  {
   "cell_type": "code",
   "execution_count": 46,
   "id": "80d1a58a",
   "metadata": {},
   "outputs": [],
   "source": [
    "manhattan_dropoffs_2018_df = pd.read_sql(\"SELECT total_amount FROM [2018_taxi_trips] LEFT JOIN taxi_zones ON [2018_taxi_trips].DOLocationID = taxi_zones.LocationID WHERE Borough = 'Manhattan'\", conn)"
   ]
  },
  {
   "cell_type": "code",
   "execution_count": 47,
   "id": "9851d21c",
   "metadata": {},
   "outputs": [],
   "source": [
    "manhattan_dropoffs_2018_df['total_amount'] = pd.to_numeric(manhattan_dropoffs_2018_df['total_amount'])"
   ]
  },
  {
   "cell_type": "code",
   "execution_count": 48,
   "id": "b92212ee",
   "metadata": {},
   "outputs": [
    {
     "data": {
      "text/plain": [
       "total_amount    50505523.37\n",
       "dtype: float64"
      ]
     },
     "execution_count": 48,
     "metadata": {},
     "output_type": "execute_result"
    }
   ],
   "source": [
    "manhattan_dropoffs_2018_df.sum()"
   ]
  },
  {
   "cell_type": "code",
   "execution_count": 49,
   "id": "fa821cf5",
   "metadata": {},
   "outputs": [],
   "source": [
    "manhattan_dropoffs_2019_df = pd.read_sql(\"SELECT total_amount FROM [2019_taxi_trips] LEFT JOIN taxi_zones ON [2019_taxi_trips].DOLocationID = taxi_zones.LocationID WHERE Borough = 'Manhattan'\", conn)"
   ]
  },
  {
   "cell_type": "code",
   "execution_count": 50,
   "id": "4f354beb",
   "metadata": {},
   "outputs": [],
   "source": [
    "manhattan_dropoffs_2019_df['total_amount'] = pd.to_numeric(manhattan_dropoffs_2019_df['total_amount'])"
   ]
  },
  {
   "cell_type": "code",
   "execution_count": 51,
   "id": "6bae1d97",
   "metadata": {},
   "outputs": [
    {
     "data": {
      "text/plain": [
       "total_amount    38538406.38\n",
       "dtype: float64"
      ]
     },
     "execution_count": 51,
     "metadata": {},
     "output_type": "execute_result"
    }
   ],
   "source": [
    "manhattan_dropoffs_2019_df.sum()"
   ]
  },
  {
   "cell_type": "code",
   "execution_count": 78,
   "id": "dfb793f8",
   "metadata": {},
   "outputs": [],
   "source": [
    "brooklyn_dropoffs_2017_df = pd.read_sql(\"SELECT total_amount FROM [2017_taxi_trips] LEFT JOIN taxi_zones ON [2017_taxi_trips].DOLocationID = taxi_zones.LocationID WHERE Borough = 'Brooklyn'\", conn)"
   ]
  },
  {
   "cell_type": "code",
   "execution_count": 52,
   "id": "b0297990",
   "metadata": {},
   "outputs": [],
   "source": [
    "manhattan_dropoffs_2020_df = pd.read_sql(\"SELECT total_amount FROM [2020_taxi_trips] LEFT JOIN taxi_zones ON [2020_taxi_trips].DOLocationID = taxi_zones.LocationID WHERE Borough = 'Manhattan'\", conn)"
   ]
  },
  {
   "cell_type": "code",
   "execution_count": 79,
   "id": "77a56b86",
   "metadata": {},
   "outputs": [],
   "source": [
    "brooklyn_dropoffs_2017_df['total_amount'] = pd.to_numeric(queens_dropoffs_2017_df['total_amount'])"
   ]
  },
  {
   "cell_type": "code",
   "execution_count": 53,
   "id": "943e9e6e",
   "metadata": {},
   "outputs": [],
   "source": [
    "manhattan_dropoffs_2020_df['total_amount'] = pd.to_numeric(manhattan_dropoffs_2020_df['total_amount'])"
   ]
  },
  {
   "cell_type": "code",
   "execution_count": 80,
   "id": "dd490a29",
   "metadata": {},
   "outputs": [
    {
     "data": {
      "text/plain": [
       "total_amount    46291046.52\n",
       "dtype: float64"
      ]
     },
     "execution_count": 80,
     "metadata": {},
     "output_type": "execute_result"
    }
   ],
   "source": [
    "brooklyn_dropoffs_2017_df.sum()"
   ]
  },
  {
   "cell_type": "code",
   "execution_count": 81,
   "id": "c495d9ed",
   "metadata": {},
   "outputs": [],
   "source": [
    "brooklyn_dropoffs_2018_df = pd.read_sql(\"SELECT total_amount FROM [2018_taxi_trips] LEFT JOIN taxi_zones ON [2018_taxi_trips].DOLocationID = taxi_zones.LocationID WHERE Borough = 'Brooklyn'\", conn)"
   ]
  },
  {
   "cell_type": "code",
   "execution_count": 82,
   "id": "17d77c3a",
   "metadata": {},
   "outputs": [],
   "source": [
    "brooklyn_dropoffs_2018_df['total_amount'] = pd.to_numeric(queens_dropoffs_2018_df['total_amount'])"
   ]
  },
  {
   "cell_type": "code",
   "execution_count": 83,
   "id": "a6db4863",
   "metadata": {},
   "outputs": [
    {
     "data": {
      "text/plain": [
       "total_amount    35093407.18\n",
       "dtype: float64"
      ]
     },
     "execution_count": 83,
     "metadata": {},
     "output_type": "execute_result"
    }
   ],
   "source": [
    "brooklyn_dropoffs_2018_df.sum()"
   ]
  },
  {
   "cell_type": "code",
   "execution_count": 84,
   "id": "55d28de8",
   "metadata": {},
   "outputs": [],
   "source": [
    "brooklyn_dropoffs_2019_df = pd.read_sql(\"SELECT total_amount FROM [2019_taxi_trips] LEFT JOIN taxi_zones ON [2019_taxi_trips].DOLocationID = taxi_zones.LocationID WHERE Borough = 'Brooklyn'\", conn)"
   ]
  },
  {
   "cell_type": "code",
   "execution_count": 85,
   "id": "d5d6ca59",
   "metadata": {},
   "outputs": [],
   "source": [
    "brooklyn_dropoffs_2019_df['total_amount'] = pd.to_numeric(queens_dropoffs_2019_df['total_amount'])"
   ]
  },
  {
   "cell_type": "code",
   "execution_count": 86,
   "id": "1a4c258a",
   "metadata": {},
   "outputs": [
    {
     "data": {
      "text/plain": [
       "total_amount    24137883.44\n",
       "dtype: float64"
      ]
     },
     "execution_count": 86,
     "metadata": {},
     "output_type": "execute_result"
    }
   ],
   "source": [
    "brooklyn_dropoffs_2019_df.sum()"
   ]
  },
  {
   "cell_type": "code",
   "execution_count": 89,
   "id": "5c9dc0e3",
   "metadata": {},
   "outputs": [],
   "source": [
    "brooklyn_dropoffs_2020_df = pd.read_sql(\"SELECT total_amount FROM [2020_taxi_trips] LEFT JOIN taxi_zones ON [2020_taxi_trips].DOLocationID = taxi_zones.LocationID WHERE Borough = 'Brooklyn'\", conn)"
   ]
  },
  {
   "cell_type": "code",
   "execution_count": 90,
   "id": "8ae8a558",
   "metadata": {},
   "outputs": [],
   "source": [
    "brooklyn_dropoffs_2020_df['total_amount'] = pd.to_numeric(queens_dropoffs_2020_df['total_amount'])"
   ]
  },
  {
   "cell_type": "code",
   "execution_count": 92,
   "id": "72c2f7ca",
   "metadata": {},
   "outputs": [
    {
     "data": {
      "text/plain": [
       "total_amount    8034318.5\n",
       "dtype: float64"
      ]
     },
     "execution_count": 92,
     "metadata": {},
     "output_type": "execute_result"
    }
   ],
   "source": [
    "brooklyn_dropoffs_2020_df.sum()"
   ]
  },
  {
   "cell_type": "code",
   "execution_count": null,
   "id": "283f44e6",
   "metadata": {},
   "outputs": [
    {
     "name": "stderr",
     "output_type": "stream",
     "text": [
      "<<<<<<< local <modified: text/plain>\n"
     ]
    },
    {
     "data": {
      "text/plain": [
       "total_amount    12315543.0\n",
       "dtype: float64"
      ]
     },
     "execution_count": 54,
     "metadata": {},
     "output_type": "execute_result"
    },
    {
     "name": "stderr",
     "output_type": "stream",
     "text": [
      "=======\n"
     ]
    },
    {
     "data": {
      "text/plain": [
       "total_amount    8034318.5\n",
       "dtype: float64"
      ]
     },
     "execution_count": 77,
     "metadata": {},
     "output_type": "execute_result"
    },
    {
     "name": "stderr",
     "output_type": "stream",
     "text": [
      ">>>>>>> remote <modified: text/plain>\n"
     ]
    }
   ],
   "source": [
    "queens_dropoffs_2017_df.sum()"
   ]
  },
  {
   "cell_type": "code",
   "execution_count": null,
   "id": "0a78ec94",
   "metadata": {},
   "outputs": [],
   "source": []
  }
 ],
 "metadata": {
  "kernelspec": {
   "display_name": "Python 3 (ipykernel)",
   "language": "python",
   "name": "python3"
  },
  "language_info": {
   "codemirror_mode": {
    "name": "ipython",
    "version": 3
   },
   "file_extension": ".py",
   "mimetype": "text/x-python",
   "name": "python",
   "nbconvert_exporter": "python",
   "pygments_lexer": "ipython3",
   "version": "3.9.7"
  }
 },
 "nbformat": 4,
 "nbformat_minor": 5
}
