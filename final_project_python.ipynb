{
 "cells": [
  {
   "cell_type": "code",
   "execution_count": 16,
   "id": "1b83d7db-cc6b-4b07-85ac-25598918b8d7",
   "metadata": {},
   "outputs": [],
   "source": [
    "import pandas as pd\n",
    "import pyodbc\n",
    "\n",
    "def mssql_connection(password: str, username: str, default_db: str = \"master\"):\n",
    "                     server = \"localhost\"\n",
    "                     \n",
    "                     cnxn = pyodbc.connect(\n",
    "                         \"DRIVER={ODBC Driver 17 for SQL Server};SERVER=\"\n",
    "                         + server\n",
    "                         + \";DATABASE=\"\n",
    "                         + default_db\n",
    "                         + \";UID=\"\n",
    "                         + username\n",
    "                         + \";PWD=\"\n",
    "                         +password\n",
    "                     )\n",
    "                     return cnxn"
   ]
  },
  {
   "cell_type": "code",
   "execution_count": 17,
   "id": "96604aac-3666-4a0d-baca-085ca409c325",
   "metadata": {},
   "outputs": [],
   "source": [
    "conn = mssql_connection(password= \"\" , username= \"\" , default_db=\"summer_2022\")"
   ]
  },
  {
   "cell_type": "code",
   "execution_count": null,
   "id": "32091702-7758-40d5-8b0f-db62a53af1c5",
   "metadata": {},
   "outputs": [],
   "source": []
  }
 ],
 "metadata": {
  "kernelspec": {
   "display_name": "Python 3 (ipykernel)",
   "language": "python",
   "name": "python3"
  },
  "language_info": {
   "codemirror_mode": {
    "name": "ipython",
    "version": 3
   },
   "file_extension": ".py",
   "mimetype": "text/x-python",
   "name": "python",
   "nbconvert_exporter": "python",
   "pygments_lexer": "ipython3",
   "version": "3.9.7"
  }
 },
 "nbformat": 4,
 "nbformat_minor": 5
}
