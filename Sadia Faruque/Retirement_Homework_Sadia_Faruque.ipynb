{
 "cells": [
  {
   "cell_type": "code",
   "execution_count": 34,
   "id": "9aaa402e-f322-4f74-9f33-1d207987ca9f",
   "metadata": {},
   "outputs": [],
   "source": [
    "current_age = 22"
   ]
  },
  {
   "cell_type": "code",
   "execution_count": 35,
   "id": "1b134504-dba7-4162-a22e-0836a247a929",
   "metadata": {},
   "outputs": [],
   "source": [
    "retire_age = 65"
   ]
  },
  {
   "cell_type": "code",
   "execution_count": 36,
   "id": "a396b269-70ff-4ab1-b84f-1920662b9606",
   "metadata": {},
   "outputs": [],
   "source": [
    "account_balance = 0"
   ]
  },
  {
   "cell_type": "code",
   "execution_count": 37,
   "id": "bb249574-6875-4018-8c05-e1f89f23d8d2",
   "metadata": {},
   "outputs": [],
   "source": [
    "annual_contribution = 20500"
   ]
  },
  {
   "cell_type": "code",
   "execution_count": 38,
   "id": "1c41a744-8477-4d12-b712-dbb80541c130",
   "metadata": {},
   "outputs": [],
   "source": [
    "interest_rate = 0.08"
   ]
  },
  {
   "cell_type": "code",
   "execution_count": 39,
   "id": "e18dd7cf-f164-4ecc-a896-6e07e4058a9d",
   "metadata": {},
   "outputs": [],
   "source": [
    "for year in range(current_age, retire_age):\n",
    "    account_balance = account_balance + annual_contribution + interest_rate"
   ]
  },
  {
   "cell_type": "code",
   "execution_count": 40,
   "id": "21b0570b-0622-4d3c-8c58-cb26d49206df",
   "metadata": {},
   "outputs": [
    {
     "name": "stdout",
     "output_type": "stream",
     "text": [
      "65 881503.4399999995\n"
     ]
    }
   ],
   "source": [
    "print(year+1, account_balance)"
   ]
  },
  {
   "cell_type": "code",
   "execution_count": 43,
   "id": "3b8ab362-be29-402e-9a9b-504659edd5f1",
   "metadata": {},
   "outputs": [
    {
     "name": "stdout",
     "output_type": "stream",
     "text": [
      "24 20500.07\n",
      "25 41000.14\n",
      "26 61500.21\n",
      "27 82000.28\n",
      "28 102500.35\n",
      "29 123000.42000000001\n",
      "30 143500.49000000002\n",
      "31 164000.56000000003\n",
      "32 184500.63000000003\n",
      "33 205000.70000000004\n",
      "34 225500.77000000005\n",
      "35 246000.84000000005\n",
      "36 266500.9100000001\n",
      "37 287000.9800000001\n",
      "38 307501.0500000001\n",
      "39 328001.1200000001\n",
      "40 348501.1900000001\n",
      "41 369001.2600000001\n",
      "42 389501.33000000013\n",
      "43 410001.40000000014\n",
      "44 430501.47000000015\n",
      "45 451001.54000000015\n",
      "46 471501.61000000016\n",
      "47 492001.68000000017\n",
      "48 512501.7500000002\n",
      "49 533001.8200000002\n",
      "50 553501.8900000001\n",
      "51 574001.9600000001\n",
      "52 594502.03\n",
      "53 615002.1\n",
      "54 635502.1699999999\n",
      "55 656002.2399999999\n",
      "56 676502.3099999998\n",
      "57 697002.3799999998\n",
      "58 717502.4499999997\n",
      "59 738002.5199999997\n",
      "60 758502.5899999996\n",
      "61 779002.6599999996\n",
      "62 799502.7299999995\n",
      "63 820002.7999999995\n",
      "64 840502.8699999994\n",
      "65 861002.9399999994\n",
      "66 881503.0099999993\n",
      "67 902003.0799999993\n",
      "68 922503.1499999992\n",
      "69 943003.2199999992\n",
      "70 963503.2899999991\n"
     ]
    }
   ],
   "source": [
    "goal = 960000\n",
    "account_balance = 0\n",
    "annual_contribution = 20500\n",
    "age = 22\n",
    "interest_rate = 0.07\n",
    "while account_balance < goal:\n",
    "    account_balance = account_balance + annual_contribution + interest_rate\n",
    "    age = age + 1\n",
    "    print(age+1, account_balance)"
   ]
  },
  {
   "cell_type": "code",
   "execution_count": null,
   "id": "abe9b97a-5240-4eb6-9d90-885281912fbb",
   "metadata": {},
   "outputs": [],
   "source": []
  }
 ],
 "metadata": {
  "kernelspec": {
   "display_name": "Python 3 (ipykernel)",
   "language": "python",
   "name": "python3"
  },
  "language_info": {
   "codemirror_mode": {
    "name": "ipython",
    "version": 3
   },
   "file_extension": ".py",
   "mimetype": "text/x-python",
   "name": "python",
   "nbconvert_exporter": "python",
   "pygments_lexer": "ipython3",
   "version": "3.9.7"
  }
 },
 "nbformat": 4,
 "nbformat_minor": 5
}
