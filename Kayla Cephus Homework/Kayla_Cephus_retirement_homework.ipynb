{
 "cells": [
  {
   "cell_type": "code",
   "execution_count": 1,
   "id": "3250b88c-3f56-4955-85a8-e98257253d4b",
   "metadata": {},
   "outputs": [
    {
     "name": "stdout",
     "output_type": "stream",
     "text": [
      "49 11792628642.822369\n"
     ]
    }
   ],
   "source": [
    "current_age = 20\n",
    "retire_age = 50\n",
    "account_balance = 0\n",
    "annual_contribution = 20500\n",
    "interest = 0.5\n",
    "annual_interest = 0.1\n",
    "\n",
    "for year in range(current_age, retire_age):\n",
    "    account_balance = account_balance + annual_contribution \n",
    "    annual_interest = account_balance * interest\n",
    "    account_balance = account_balance + annual_interest\n",
    "    \n",
    "print(year, account_balance)"
   ]
  },
  {
   "cell_type": "code",
   "execution_count": 2,
   "id": "cecfa567-c5f7-4225-b2b8-ba52b41d277f",
   "metadata": {},
   "outputs": [
    {
     "name": "stdout",
     "output_type": "stream",
     "text": [
      "29 989285.15625\n"
     ]
    }
   ],
   "source": [
    "goal = 960000\n",
    "account_balance = 0\n",
    "annual_contribution = 20500\n",
    "age = 22\n",
    "\n",
    "while account_balance < goal:\n",
    "    account_balance = account_balance + annual_contribution\n",
    "    annual_interest = account_balance * interest\n",
    "    account_balance = account_balance + annual_interest\n",
    "    age = age + 1\n",
    "print(age, account_balance)"
   ]
  }
 ],
 "metadata": {
  "kernelspec": {
   "display_name": "Python 3 (ipykernel)",
   "language": "python",
   "name": "python3"
  },
  "language_info": {
   "codemirror_mode": {
    "name": "ipython",
    "version": 3
   },
   "file_extension": ".py",
   "mimetype": "text/x-python",
   "name": "python",
   "nbconvert_exporter": "python",
   "pygments_lexer": "ipython3",
   "version": "3.9.7"
  }
 },
 "nbformat": 4,
 "nbformat_minor": 5
}
