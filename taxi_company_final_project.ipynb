{
 "cells": [
  {
   "cell_type": "markdown",
   "id": "e66a2806",
   "metadata": {},
   "source": [
    "***Taxi Company Final Project***"
   ]
  },
  {
   "cell_type": "code",
   "execution_count": 1,
   "id": "25b58c68",
   "metadata": {},
   "outputs": [],
   "source": [
    "import pandas as pd\n",
    "import pyodbc\n",
    "\n",
    "def mssql_connection(password: str, username: str, default_db: str = \"master\"):\n",
    "                     server = \"localhost\"\n",
    "                     \n",
    "                     cnxn = pyodbc.connect(\n",
    "                         \"DRIVER={ODBC Driver 17 for SQL Server};SERVER=\"\n",
    "                         + server\n",
    "                         + \";DATABASE=\"\n",
    "                         + default_db\n",
    "                         + \";UID=\"\n",
    "                         + username\n",
    "                         + \";PWD=\"\n",
    "                         +password\n",
    "                     )\n",
    "                     return cnxn"
   ]
  },
  {
   "cell_type": "code",
   "execution_count": null,
   "id": "7136dd74",
   "metadata": {},
   "outputs": [],
   "source": [
    "conn = mssql_connection(password= \"CCny23747149\" , username= \"Sadiafaruque149\" , default_db=\"summer_2022\")"
   ]
  },
  {
   "cell_type": "code",
   "execution_count": 3,
   "id": "3cd4743f",
   "metadata": {},
   "outputs": [],
   "source": [
    "import matplotlib.pyplot as plt\n",
    "plt.close(\"all\")"
   ]
  },
  {
   "cell_type": "code",
   "execution_count": 4,
   "id": "b15f1cfe",
   "metadata": {},
   "outputs": [],
   "source": [
    "weekday_trip_cycle_df = pd.read_sql(\"SELECT * FROM [2019_taxi_trips] WHERE lpep_pickup_datetime >= '2019-05-13 00:00:00' AND lpep_pickup_datetime <= '2019-05-13 23:59:59' ORDER BY lpep_pickup_datetime\",conn)"
   ]
  },
  {
   "cell_type": "code",
   "execution_count": 7,
   "id": "1f194d77",
   "metadata": {
    "tags": []
   },
   "outputs": [
    {
     "data": {
      "text/plain": [
       "<AxesSubplot:>"
      ]
     },
     "execution_count": 7,
     "metadata": {},
     "output_type": "execute_result"
    },
    {
     "data": {
      "image/png": "[encoded data removed]",
      "text/plain": [
       "<Figure size 720x360 with 1 Axes>"
      ]
     },
     "metadata": {
      "needs_background": "light"
     },
     "output_type": "display_data"
    }
   ],
   "source": [
    "weekday_trip_cycle_df.lpep_pickup_datetime.hist(bins=48, figsize=(10,5))"
   ]
  },
  {
   "cell_type": "code",
   "execution_count": 8,
   "id": "1a4336c9",
   "metadata": {},
   "outputs": [],
   "source": [
    "weekend_trip_cycle_df = pd.read_sql(\"SELECT * FROM [2019_taxi_trips] WHERE lpep_pickup_datetime >= '2019-05-11 00:00:00' AND lpep_pickup_datetime <= '2019-05-11 23:59:59' ORDER BY lpep_pickup_datetime\",conn)"
   ]
  },
  {
   "cell_type": "code",
   "execution_count": 9,
   "id": "95e63532",
   "metadata": {},
   "outputs": [
    {
     "data": {
      "image/png": "[encoded data removed]",
      "text/plain": [
       "<Figure size 720x360 with 1 Axes>"
      ]
     },
     "metadata": {
      "needs_background": "light"
     },
     "output_type": "display_data"
    }
   ],
   "source": [
    "weekend_trip_cycle_df.lpep_pickup_datetime.hist(bins=48, figsize=(10,5));"
   ]
  },
  {
   "cell_type": "code",
   "execution_count": 10,
   "id": "3384acaf",
   "metadata": {},
   "outputs": [],
   "source": [
    "january_trips_2018_df = pd.read_sql(\"SELECT lpep_pickup_datetime FROM [2018_taxi_trips] WHERE lpep_pickup_datetime >= '2018-01-01' AND lpep_pickup_datetime <= '2018-01-31' ORDER BY lpep_pickup_datetime\",conn)"
   ]
  },
  {
   "cell_type": "code",
   "execution_count": 11,
   "id": "56b861ac",
   "metadata": {},
   "outputs": [
    {
     "data": {
      "text/plain": [
       "766728"
      ]
     },
     "execution_count": 11,
     "metadata": {},
     "output_type": "execute_result"
    }
   ],
   "source": [
    "january_trips_2018_df.lpep_pickup_datetime.count()"
   ]
  },
  {
   "cell_type": "code",
   "execution_count": 12,
   "id": "4d4ca9b8",
   "metadata": {},
   "outputs": [],
   "source": [
    "february_trips_2018_df = pd.read_sql(\"SELECT lpep_pickup_datetime FROM [2018_taxi_trips] WHERE lpep_pickup_datetime >= '2018-02-01' AND lpep_pickup_datetime <= '2018-02-28' ORDER BY lpep_pickup_datetime\",conn)"
   ]
  },
  {
   "cell_type": "code",
   "execution_count": 13,
   "id": "829b5d7e",
   "metadata": {},
   "outputs": [
    {
     "data": {
      "text/plain": [
       "742875"
      ]
     },
     "execution_count": 13,
     "metadata": {},
     "output_type": "execute_result"
    }
   ],
   "source": [
    "february_trips_2018_df.lpep_pickup_datetime.count()"
   ]
  },
  {
   "cell_type": "code",
   "execution_count": 14,
   "id": "83083110",
   "metadata": {},
   "outputs": [],
   "source": [
    "march_trips_2018_df = pd.read_sql(\"SELECT lpep_pickup_datetime FROM [2018_taxi_trips] WHERE lpep_pickup_datetime >= '2018-03-01' AND lpep_pickup_datetime <= '2018-03-31' ORDER BY lpep_pickup_datetime\",conn)"
   ]
  },
  {
   "cell_type": "code",
   "execution_count": 15,
   "id": "83c25664",
   "metadata": {},
   "outputs": [
    {
     "data": {
      "text/plain": [
       "806994"
      ]
     },
     "execution_count": 15,
     "metadata": {},
     "output_type": "execute_result"
    }
   ],
   "source": [
    "march_trips_2018_df.lpep_pickup_datetime.count()"
   ]
  },
  {
   "cell_type": "code",
   "execution_count": 16,
   "id": "522b2808",
   "metadata": {},
   "outputs": [],
   "source": [
    "april_trips_2018_df = pd.read_sql(\"SELECT lpep_pickup_datetime FROM [2018_taxi_trips] WHERE lpep_pickup_datetime >= '2018-04-01' AND lpep_pickup_datetime <= '2018-04-30' ORDER BY lpep_pickup_datetime\",conn)"
   ]
  },
  {
   "cell_type": "code",
   "execution_count": 17,
   "id": "5c154440",
   "metadata": {},
   "outputs": [
    {
     "data": {
      "text/plain": [
       "775152"
      ]
     },
     "execution_count": 17,
     "metadata": {},
     "output_type": "execute_result"
    }
   ],
   "source": [
    "april_trips_2018_df.lpep_pickup_datetime.count()"
   ]
  },
  {
   "cell_type": "code",
   "execution_count": 18,
   "id": "045901eb",
   "metadata": {},
   "outputs": [],
   "source": [
    "may_trips_2018_df = pd.read_sql(\"SELECT lpep_pickup_datetime FROM [2018_taxi_trips] WHERE lpep_pickup_datetime >= '2018-05-01' AND lpep_pickup_datetime <= '2018-05-31' ORDER BY lpep_pickup_datetime\",conn)"
   ]
  },
  {
   "cell_type": "code",
   "execution_count": 19,
   "id": "3da2e21c",
   "metadata": {},
   "outputs": [
    {
     "data": {
      "text/plain": [
       "771334"
      ]
     },
     "execution_count": 19,
     "metadata": {},
     "output_type": "execute_result"
    }
   ],
   "source": [
    "may_trips_2018_df.lpep_pickup_datetime.count()"
   ]
  },
  {
   "cell_type": "code",
   "execution_count": 20,
   "id": "2302725b",
   "metadata": {},
   "outputs": [],
   "source": [
    "june_trips_2018_df = pd.read_sql(\"SELECT lpep_pickup_datetime FROM [2018_taxi_trips] WHERE lpep_pickup_datetime >= '2018-06-01' AND lpep_pickup_datetime <= '2018-06-30' ORDER BY lpep_pickup_datetime\",conn)"
   ]
  },
  {
   "cell_type": "code",
   "execution_count": 21,
   "id": "5327c5e8",
   "metadata": {},
   "outputs": [
    {
     "data": {
      "text/plain": [
       "711608"
      ]
     },
     "execution_count": 21,
     "metadata": {},
     "output_type": "execute_result"
    }
   ],
   "source": [
    "june_trips_2018_df.lpep_pickup_datetime.count()"
   ]
  },
  {
   "cell_type": "code",
   "execution_count": 22,
   "id": "9ea5186c",
   "metadata": {},
   "outputs": [],
   "source": [
    "july_trips_2018_df = pd.read_sql(\"SELECT lpep_pickup_datetime FROM [2018_taxi_trips] WHERE lpep_pickup_datetime >= '2018-07-01' AND lpep_pickup_datetime <= '2018-07-31' ORDER BY lpep_pickup_datetime\",conn)"
   ]
  },
  {
   "cell_type": "code",
   "execution_count": 23,
   "id": "dd8d234b",
   "metadata": {},
   "outputs": [
    {
     "data": {
      "text/plain": [
       "663670"
      ]
     },
     "execution_count": 23,
     "metadata": {},
     "output_type": "execute_result"
    }
   ],
   "source": [
    "july_trips_2018_df.lpep_pickup_datetime.count()"
   ]
  },
  {
   "cell_type": "code",
   "execution_count": 24,
   "id": "985456a5",
   "metadata": {},
   "outputs": [],
   "source": [
    "august_trips_2018_df = pd.read_sql(\"SELECT lpep_pickup_datetime FROM [2018_taxi_trips] WHERE lpep_pickup_datetime >= '2018-08-01' AND lpep_pickup_datetime <= '2018-08-31' ORDER BY lpep_pickup_datetime\",conn)"
   ]
  },
  {
   "cell_type": "code",
   "execution_count": 25,
   "id": "7f623b84",
   "metadata": {},
   "outputs": [
    {
     "data": {
      "text/plain": [
       "642375"
      ]
     },
     "execution_count": 25,
     "metadata": {},
     "output_type": "execute_result"
    }
   ],
   "source": [
    "august_trips_2018_df.lpep_pickup_datetime.count()"
   ]
  },
  {
   "cell_type": "code",
   "execution_count": 26,
   "id": "d92942a9",
   "metadata": {},
   "outputs": [],
   "source": [
    "september_trips_2018_df = pd.read_sql(\"SELECT lpep_pickup_datetime FROM [2018_taxi_trips] WHERE lpep_pickup_datetime >= '2018-09-01' AND lpep_pickup_datetime <= '2018-09-30' ORDER BY lpep_pickup_datetime\",conn)"
   ]
  },
  {
   "cell_type": "code",
   "execution_count": 27,
   "id": "fb03c2d7",
   "metadata": {},
   "outputs": [
    {
     "data": {
      "text/plain": [
       "646120"
      ]
     },
     "execution_count": 27,
     "metadata": {},
     "output_type": "execute_result"
    }
   ],
   "source": [
    "september_trips_2018_df.lpep_pickup_datetime.count()"
   ]
  },
  {
   "cell_type": "code",
   "execution_count": 28,
   "id": "d50e54a1",
   "metadata": {},
   "outputs": [],
   "source": [
    "october_trips_2018_df = pd.read_sql(\"SELECT lpep_pickup_datetime FROM [2018_taxi_trips] WHERE lpep_pickup_datetime >= '2018-10-01' AND lpep_pickup_datetime <= '2018-10-31' ORDER BY lpep_pickup_datetime\",conn)"
   ]
  },
  {
   "cell_type": "code",
   "execution_count": 29,
   "id": "ba54f6df",
   "metadata": {},
   "outputs": [
    {
     "data": {
      "text/plain": [
       "687458"
      ]
     },
     "execution_count": 29,
     "metadata": {},
     "output_type": "execute_result"
    }
   ],
   "source": [
    "october_trips_2018_df.lpep_pickup_datetime.count()"
   ]
  },
  {
   "cell_type": "code",
   "execution_count": 30,
   "id": "09b619a2",
   "metadata": {},
   "outputs": [],
   "source": [
    "november_trips_2018_df = pd.read_sql(\"SELECT lpep_pickup_datetime FROM [2018_taxi_trips] WHERE lpep_pickup_datetime >= '2018-11-01' AND lpep_pickup_datetime <= '2018-11-30' ORDER BY lpep_pickup_datetime\",conn)"
   ]
  },
  {
   "cell_type": "code",
   "execution_count": 31,
   "id": "e06e96cb",
   "metadata": {},
   "outputs": [
    {
     "data": {
      "text/plain": [
       "630983"
      ]
     },
     "execution_count": 31,
     "metadata": {},
     "output_type": "execute_result"
    }
   ],
   "source": [
    "november_trips_2018_df.lpep_pickup_datetime.count()"
   ]
  },
  {
   "cell_type": "code",
   "execution_count": 32,
   "id": "2814d974",
   "metadata": {},
   "outputs": [],
   "source": [
    "december_trips_2018_df = pd.read_sql(\"SELECT lpep_pickup_datetime FROM [2018_taxi_trips] WHERE lpep_pickup_datetime >= '2018-12-01' AND lpep_pickup_datetime <= '2018-12-31' ORDER BY lpep_pickup_datetime\",conn)"
   ]
  },
  {
   "cell_type": "code",
   "execution_count": 33,
   "id": "c453fa45",
   "metadata": {},
   "outputs": [
    {
     "data": {
      "text/plain": [
       "663302"
      ]
     },
     "execution_count": 33,
     "metadata": {},
     "output_type": "execute_result"
    }
   ],
   "source": [
    "december_trips_2018_df.lpep_pickup_datetime.count()"
   ]
  },
  {
   "cell_type": "code",
   "execution_count": 34,
   "id": "f271a501",
   "metadata": {},
   "outputs": [],
   "source": [
    "january_trips_2017_df = pd.read_sql(\"SELECT lpep_pickup_datetime FROM [2017_taxi_trips] WHERE lpep_pickup_datetime >= '2017-01-01' AND lpep_pickup_datetime <= '2017-01-31' ORDER BY lpep_pickup_datetime\",conn)"
   ]
  },
  {
   "cell_type": "code",
   "execution_count": 35,
   "id": "f7641c2d",
   "metadata": {},
   "outputs": [
    {
     "data": {
      "text/plain": [
       "1038680"
      ]
     },
     "execution_count": 35,
     "metadata": {},
     "output_type": "execute_result"
    }
   ],
   "source": [
    "january_trips_2017_df.lpep_pickup_datetime.count()"
   ]
  },
  {
   "cell_type": "code",
   "execution_count": 36,
   "id": "1e18cf63",
   "metadata": {},
   "outputs": [],
   "source": [
    "february_trips_2017_df = pd.read_sql(\"SELECT lpep_pickup_datetime FROM [2017_taxi_trips] WHERE lpep_pickup_datetime >= '2017-02-01' AND lpep_pickup_datetime <= '2017-02-28' ORDER BY lpep_pickup_datetime\",conn)"
   ]
  },
  {
   "cell_type": "code",
   "execution_count": 37,
   "id": "9a5a4da7",
   "metadata": {},
   "outputs": [
    {
     "data": {
      "text/plain": [
       "991309"
      ]
     },
     "execution_count": 37,
     "metadata": {},
     "output_type": "execute_result"
    }
   ],
   "source": [
    "february_trips_2017_df.lpep_pickup_datetime.count()"
   ]
  },
  {
   "cell_type": "code",
   "execution_count": 38,
   "id": "dd792f3e",
   "metadata": {},
   "outputs": [],
   "source": [
    "march_trips_2017_df = pd.read_sql(\"SELECT lpep_pickup_datetime FROM [2017_taxi_trips] WHERE lpep_pickup_datetime >= '2017-03-01' AND lpep_pickup_datetime <= '2017-03-31' ORDER BY lpep_pickup_datetime\",conn)"
   ]
  },
  {
   "cell_type": "code",
   "execution_count": 39,
   "id": "599760f2",
   "metadata": {},
   "outputs": [
    {
     "data": {
      "text/plain": [
       "1112156"
      ]
     },
     "execution_count": 39,
     "metadata": {},
     "output_type": "execute_result"
    }
   ],
   "source": [
    "march_trips_2017_df.lpep_pickup_datetime.count()"
   ]
  },
  {
   "cell_type": "code",
   "execution_count": 40,
   "id": "99d66fad",
   "metadata": {},
   "outputs": [],
   "source": [
    "april_trips_2017_df = pd.read_sql(\"SELECT lpep_pickup_datetime FROM [2017_taxi_trips] WHERE lpep_pickup_datetime >= '2017-04-01' AND lpep_pickup_datetime <= '2017-04-30' ORDER BY lpep_pickup_datetime\",conn)"
   ]
  },
  {
   "cell_type": "code",
   "execution_count": 41,
   "id": "fd7fab01",
   "metadata": {},
   "outputs": [
    {
     "data": {
      "text/plain": [
       "1045451"
      ]
     },
     "execution_count": 41,
     "metadata": {},
     "output_type": "execute_result"
    }
   ],
   "source": [
    "april_trips_2017_df.lpep_pickup_datetime.count()"
   ]
  },
  {
   "cell_type": "code",
   "execution_count": 42,
   "id": "2656716a",
   "metadata": {},
   "outputs": [],
   "source": [
    "may_trips_2017_df = pd.read_sql(\"SELECT lpep_pickup_datetime FROM [2017_taxi_trips] WHERE lpep_pickup_datetime >= '2017-05-01' AND lpep_pickup_datetime <= '2017-05-31' ORDER BY lpep_pickup_datetime\",conn)"
   ]
  },
  {
   "cell_type": "code",
   "execution_count": 43,
   "id": "77e9fb30",
   "metadata": {},
   "outputs": [
    {
     "data": {
      "text/plain": [
       "1029912"
      ]
     },
     "execution_count": 43,
     "metadata": {},
     "output_type": "execute_result"
    }
   ],
   "source": [
    "may_trips_2017_df.lpep_pickup_datetime.count()"
   ]
  },
  {
   "cell_type": "code",
   "execution_count": 44,
   "id": "18ef0bd0",
   "metadata": {},
   "outputs": [],
   "source": [
    "june_trips_2017_df = pd.read_sql(\"SELECT lpep_pickup_datetime FROM [2017_taxi_trips] WHERE lpep_pickup_datetime >= '2017-06-01' AND lpep_pickup_datetime <= '2017-06-30' ORDER BY lpep_pickup_datetime\",conn)"
   ]
  },
  {
   "cell_type": "code",
   "execution_count": 45,
   "id": "9336e013",
   "metadata": {},
   "outputs": [
    {
     "data": {
      "text/plain": [
       "940962"
      ]
     },
     "execution_count": 45,
     "metadata": {},
     "output_type": "execute_result"
    }
   ],
   "source": [
    "june_trips_2017_df.lpep_pickup_datetime.count()"
   ]
  },
  {
   "cell_type": "code",
   "execution_count": 46,
   "id": "d03ee7b9",
   "metadata": {},
   "outputs": [],
   "source": [
    "july_trips_2017_df = pd.read_sql(\"SELECT lpep_pickup_datetime FROM [2017_taxi_trips] WHERE lpep_pickup_datetime >= '2017-07-01' AND lpep_pickup_datetime <= '2017-07-31' ORDER BY lpep_pickup_datetime\",conn)"
   ]
  },
  {
   "cell_type": "code",
   "execution_count": 47,
   "id": "6aec11f2",
   "metadata": {},
   "outputs": [
    {
     "data": {
      "text/plain": [
       "890385"
      ]
     },
     "execution_count": 47,
     "metadata": {},
     "output_type": "execute_result"
    }
   ],
   "source": [
    "july_trips_2017_df.lpep_pickup_datetime.count()"
   ]
  },
  {
   "cell_type": "code",
   "execution_count": 48,
   "id": "6202ff62",
   "metadata": {},
   "outputs": [],
   "source": [
    "august_trips_2017_df = pd.read_sql(\"SELECT lpep_pickup_datetime FROM [2017_taxi_trips] WHERE lpep_pickup_datetime >= '2017-08-01' AND lpep_pickup_datetime <= '2017-08-31' ORDER BY lpep_pickup_datetime\",conn)"
   ]
  },
  {
   "cell_type": "code",
   "execution_count": 49,
   "id": "6a8a4cff",
   "metadata": {},
   "outputs": [
    {
     "data": {
      "text/plain": [
       "840155"
      ]
     },
     "execution_count": 49,
     "metadata": {},
     "output_type": "execute_result"
    }
   ],
   "source": [
    "august_trips_2017_df.lpep_pickup_datetime.count()"
   ]
  },
  {
   "cell_type": "code",
   "execution_count": 50,
   "id": "f52165fd",
   "metadata": {},
   "outputs": [],
   "source": [
    "september_trips_2017_df = pd.read_sql(\"SELECT lpep_pickup_datetime FROM [2017_taxi_trips] WHERE lpep_pickup_datetime >= '2017-09-01' AND lpep_pickup_datetime <= '2017-09-30' ORDER BY lpep_pickup_datetime\",conn)"
   ]
  },
  {
   "cell_type": "code",
   "execution_count": 51,
   "id": "bf795a5f",
   "metadata": {},
   "outputs": [
    {
     "data": {
      "text/plain": [
       "845582"
      ]
     },
     "execution_count": 51,
     "metadata": {},
     "output_type": "execute_result"
    }
   ],
   "source": [
    "september_trips_2017_df.lpep_pickup_datetime.count()"
   ]
  },
  {
   "cell_type": "code",
   "execution_count": 52,
   "id": "e65084c1",
   "metadata": {},
   "outputs": [],
   "source": [
    "october_trips_2017_df = pd.read_sql(\"SELECT lpep_pickup_datetime FROM [2017_taxi_trips] WHERE lpep_pickup_datetime >= '2017-10-01' AND lpep_pickup_datetime <= '2017-10-31' ORDER BY lpep_pickup_datetime\",conn)"
   ]
  },
  {
   "cell_type": "code",
   "execution_count": 53,
   "id": "af4a4f9d",
   "metadata": {},
   "outputs": [
    {
     "data": {
      "text/plain": [
       "897598"
      ]
     },
     "execution_count": 53,
     "metadata": {},
     "output_type": "execute_result"
    }
   ],
   "source": [
    "october_trips_2017_df.lpep_pickup_datetime.count()"
   ]
  },
  {
   "cell_type": "code",
   "execution_count": 54,
   "id": "99bc6762",
   "metadata": {},
   "outputs": [],
   "source": [
    "november_trips_2017_df = pd.read_sql(\"SELECT lpep_pickup_datetime FROM [2017_taxi_trips] WHERE lpep_pickup_datetime >= '2017-11-01' AND lpep_pickup_datetime <= '2017-11-30' ORDER BY lpep_pickup_datetime\",conn)"
   ]
  },
  {
   "cell_type": "code",
   "execution_count": 55,
   "id": "013e2bca",
   "metadata": {},
   "outputs": [
    {
     "data": {
      "text/plain": [
       "844615"
      ]
     },
     "execution_count": 55,
     "metadata": {},
     "output_type": "execute_result"
    }
   ],
   "source": [
    "november_trips_2017_df.lpep_pickup_datetime.count()"
   ]
  },
  {
   "cell_type": "code",
   "execution_count": 56,
   "id": "a63a94a3",
   "metadata": {},
   "outputs": [],
   "source": [
    "december_trips_2017_df = pd.read_sql(\"SELECT lpep_pickup_datetime FROM [2017_taxi_trips] WHERE lpep_pickup_datetime >= '2017-12-01' AND lpep_pickup_datetime <= '2017-12-31' ORDER BY lpep_pickup_datetime\",conn)"
   ]
  },
  {
   "cell_type": "code",
   "execution_count": 57,
   "id": "ee777370",
   "metadata": {},
   "outputs": [
    {
     "data": {
      "text/plain": [
       "876203"
      ]
     },
     "execution_count": 57,
     "metadata": {},
     "output_type": "execute_result"
    }
   ],
   "source": [
    "december_trips_2017_df.lpep_pickup_datetime.count()"
   ]
  },
  {
   "cell_type": "code",
   "execution_count": 5,
   "id": "49b0de96",
   "metadata": {},
   "outputs": [],
   "source": [
    "january_trips_2019_df = pd.read_sql(\"SELECT lpep_pickup_datetime FROM [2019_taxi_trips] WHERE lpep_pickup_datetime >= '2019-01-01' AND lpep_pickup_datetime <= '2019-01-31' ORDER BY lpep_pickup_datetime\",conn)"
   ]
  },
  {
   "cell_type": "code",
   "execution_count": 6,
   "id": "31b1c7c0",
   "metadata": {},
   "outputs": [
    {
     "data": {
      "text/plain": [
       "609546"
      ]
     },
     "execution_count": 6,
     "metadata": {},
     "output_type": "execute_result"
    }
   ],
   "source": [
    "january_trips_2019_df.lpep_pickup_datetime.count()"
   ]
  },
  {
   "cell_type": "code",
   "execution_count": 7,
   "id": "d8a4ca2e",
   "metadata": {},
   "outputs": [],
   "source": [
    "february_trips_2019_df = pd.read_sql(\"SELECT lpep_pickup_datetime FROM [2019_taxi_trips] WHERE lpep_pickup_datetime >= '2019-02-01' AND lpep_pickup_datetime <= '2019-02-28' ORDER BY lpep_pickup_datetime\",conn)\n"
   ]
  },
  {
   "cell_type": "code",
   "execution_count": 8,
   "id": "50777bed",
   "metadata": {},
   "outputs": [
    {
     "data": {
      "text/plain": [
       "554913"
      ]
     },
     "execution_count": 8,
     "metadata": {},
     "output_type": "execute_result"
    }
   ],
   "source": [
    "february_trips_2019_df.lpep_pickup_datetime.count()"
   ]
  },
  {
   "cell_type": "code",
   "execution_count": 9,
   "id": "f68d1557",
   "metadata": {},
   "outputs": [],
   "source": [
    "march_trips_2019_df = pd.read_sql(\"SELECT lpep_pickup_datetime FROM [2019_taxi_trips] WHERE lpep_pickup_datetime >= '2019-03-01' AND lpep_pickup_datetime <= '2019-03-31' ORDER BY lpep_pickup_datetime\",conn)"
   ]
  },
  {
   "cell_type": "code",
   "execution_count": 10,
   "id": "b6a57446",
   "metadata": {},
   "outputs": [
    {
     "data": {
      "text/plain": [
       "584352"
      ]
     },
     "execution_count": 10,
     "metadata": {},
     "output_type": "execute_result"
    }
   ],
   "source": [
    "march_trips_2019_df.lpep_pickup_datetime.count()"
   ]
  },
  {
   "cell_type": "code",
   "execution_count": 11,
   "id": "e6eaf55a",
   "metadata": {},
   "outputs": [],
   "source": [
    "april_trips_2019_df = pd.read_sql(\"SELECT lpep_pickup_datetime FROM [2019_taxi_trips] WHERE lpep_pickup_datetime >= '2019-04-01' AND lpep_pickup_datetime <= '2019-04-30' ORDER BY lpep_pickup_datetime\",conn)"
   ]
  },
  {
   "cell_type": "code",
   "execution_count": 13,
   "id": "4f577055",
   "metadata": {},
   "outputs": [
    {
     "data": {
      "text/plain": [
       "498837"
      ]
     },
     "execution_count": 13,
     "metadata": {},
     "output_type": "execute_result"
    }
   ],
   "source": [
    "april_trips_2019_df.lpep_pickup_datetime.count()"
   ]
  },
  {
   "cell_type": "code",
   "execution_count": 14,
   "id": "c52e4785",
   "metadata": {},
   "outputs": [],
   "source": [
    "may_trips_2019_df = pd.read_sql(\"SELECT lpep_pickup_datetime FROM [2019_taxi_trips] WHERE lpep_pickup_datetime >= '2019-05-01' AND lpep_pickup_datetime <= '2019-05-31' ORDER BY lpep_pickup_datetime\",conn)"
   ]
  },
  {
   "cell_type": "code",
   "execution_count": 15,
   "id": "485cb5b9",
   "metadata": {},
   "outputs": [
    {
     "data": {
      "text/plain": [
       "488052"
      ]
     },
     "execution_count": 15,
     "metadata": {},
     "output_type": "execute_result"
    }
   ],
   "source": [
    "may_trips_2019_df.lpep_pickup_datetime.count()"
   ]
  },
  {
   "cell_type": "code",
   "execution_count": 16,
   "id": "726baad7",
   "metadata": {},
   "outputs": [],
   "source": [
    "june_trips_2019_df = pd.read_sql(\"SELECT lpep_pickup_datetime FROM [2019_taxi_trips] WHERE lpep_pickup_datetime >= '2019-06-01' AND lpep_pickup_datetime <= '2019-06-30' ORDER BY lpep_pickup_datetime\",conn)"
   ]
  },
  {
   "cell_type": "code",
   "execution_count": 17,
   "id": "46cd7f8d",
   "metadata": {},
   "outputs": [
    {
     "data": {
      "text/plain": [
       "457840"
      ]
     },
     "execution_count": 17,
     "metadata": {},
     "output_type": "execute_result"
    }
   ],
   "source": [
    "june_trips_2019_df.lpep_pickup_datetime.count()"
   ]
  },
  {
   "cell_type": "code",
   "execution_count": 18,
   "id": "44bb367f",
   "metadata": {},
   "outputs": [],
   "source": [
    "july_trips_2019_df = pd.read_sql(\"SELECT lpep_pickup_datetime FROM [2019_taxi_trips] WHERE lpep_pickup_datetime >= '2019-07-01' AND lpep_pickup_datetime <= '2019-07-31' ORDER BY lpep_pickup_datetime\",conn)"
   ]
  },
  {
   "cell_type": "code",
   "execution_count": 19,
   "id": "3aec0fab",
   "metadata": {},
   "outputs": [
    {
     "data": {
      "text/plain": [
       "455447"
      ]
     },
     "execution_count": 19,
     "metadata": {},
     "output_type": "execute_result"
    }
   ],
   "source": [
    "july_trips_2019_df.lpep_pickup_datetime.count()"
   ]
  },
  {
   "cell_type": "code",
   "execution_count": 20,
   "id": "38e1e05d",
   "metadata": {},
   "outputs": [],
   "source": [
    "august_trips_2019_df = pd.read_sql(\"SELECT lpep_pickup_datetime FROM [2019_taxi_trips] WHERE lpep_pickup_datetime >= '2019-08-01' AND lpep_pickup_datetime <= '2019-08-31' ORDER BY lpep_pickup_datetime\",conn)"
   ]
  },
  {
   "cell_type": "code",
   "execution_count": 21,
   "id": "13befbde",
   "metadata": {},
   "outputs": [
    {
     "data": {
      "text/plain": [
       "435658"
      ]
     },
     "execution_count": 21,
     "metadata": {},
     "output_type": "execute_result"
    }
   ],
   "source": [
    "august_trips_2019_df.lpep_pickup_datetime.count()"
   ]
  },
  {
   "cell_type": "code",
   "execution_count": 22,
   "id": "68db0085",
   "metadata": {},
   "outputs": [],
   "source": [
    "september_trips_2019_df = pd.read_sql(\"SELECT lpep_pickup_datetime FROM [2019_taxi_trips] WHERE lpep_pickup_datetime >= '2019-09-01' AND lpep_pickup_datetime <= '2019-09-30' ORDER BY lpep_pickup_datetime\",conn)"
   ]
  },
  {
   "cell_type": "code",
   "execution_count": 23,
   "id": "8d288346",
   "metadata": {},
   "outputs": [
    {
     "data": {
      "text/plain": [
       "436202"
      ]
     },
     "execution_count": 23,
     "metadata": {},
     "output_type": "execute_result"
    }
   ],
   "source": [
    "september_trips_2019_df.lpep_pickup_datetime.count()"
   ]
  },
  {
   "cell_type": "code",
   "execution_count": 24,
   "id": "b402351c",
   "metadata": {},
   "outputs": [],
   "source": [
    "october_trips_2019_df = pd.read_sql(\"SELECT lpep_pickup_datetime FROM [2019_taxi_trips] WHERE lpep_pickup_datetime >= '2019-10-01' AND lpep_pickup_datetime <= '2019-10-31' ORDER BY lpep_pickup_datetime\",conn)"
   ]
  },
  {
   "cell_type": "code",
   "execution_count": 25,
   "id": "b546bd1c",
   "metadata": {},
   "outputs": [
    {
     "data": {
      "text/plain": [
       "460227"
      ]
     },
     "execution_count": 25,
     "metadata": {},
     "output_type": "execute_result"
    }
   ],
   "source": [
    "october_trips_2019_df.lpep_pickup_datetime.count()"
   ]
  },
  {
   "cell_type": "code",
   "execution_count": 26,
   "id": "33c85e2f",
   "metadata": {},
   "outputs": [],
   "source": [
    "november_trips_2019_df = pd.read_sql(\"SELECT lpep_pickup_datetime FROM [2019_taxi_trips] WHERE lpep_pickup_datetime >= '2019-11-01' AND lpep_pickup_datetime <= '2019-11-30' ORDER BY lpep_pickup_datetime\",conn)"
   ]
  },
  {
   "cell_type": "code",
   "execution_count": 27,
   "id": "004949d4",
   "metadata": {},
   "outputs": [
    {
     "data": {
      "text/plain": [
       "436428"
      ]
     },
     "execution_count": 27,
     "metadata": {},
     "output_type": "execute_result"
    }
   ],
   "source": [
    "november_trips_2019_df.lpep_pickup_datetime.count()"
   ]
  },
  {
   "cell_type": "code",
   "execution_count": 28,
   "id": "4702ae48",
   "metadata": {},
   "outputs": [],
   "source": [
    "december_trips_2019_df = pd.read_sql(\"SELECT lpep_pickup_datetime FROM [2019_taxi_trips] WHERE lpep_pickup_datetime >= '2019-12-01' AND lpep_pickup_datetime <= '2019-12-31' ORDER BY lpep_pickup_datetime\",conn)"
   ]
  },
  {
   "cell_type": "code",
   "execution_count": 31,
   "id": "2bfe89df",
   "metadata": {},
   "outputs": [
    {
     "data": {
      "text/plain": [
       "436256"
      ]
     },
     "execution_count": 31,
     "metadata": {},
     "output_type": "execute_result"
    }
   ],
   "source": [
    "december_trips_2019_df.lpep_pickup_datetime.count()"
   ]
  },
  {
   "cell_type": "code",
   "execution_count": null,
   "id": "fe670328",
   "metadata": {},
   "outputs": [],
   "source": []
  }
 ],
 "metadata": {
  "kernelspec": {
   "display_name": "Python 3 (ipykernel)",
   "language": "python",
   "name": "python3"
  },
  "language_info": {
   "codemirror_mode": {
    "name": "ipython",
    "version": 3
   },
   "file_extension": ".py",
   "mimetype": "text/x-python",
   "name": "python",
   "nbconvert_exporter": "python",
   "pygments_lexer": "ipython3",
   "version": "3.9.7"
  }
 },
 "nbformat": 4,
 "nbformat_minor": 5
}
