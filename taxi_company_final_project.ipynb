{
 "cells": [
  {
   "cell_type": "markdown",
   "id": "fe954bd5-5211-4fbc-8621-1cbc7ae89d33",
   "metadata": {},
   "source": [
    "***Taxi Company Final Project***"
   ]
  },
  {
   "cell_type": "code",
   "execution_count": 53,
   "id": "d3875084-db93-4891-9e0d-d5babf0727bb",
   "metadata": {},
   "outputs": [],
   "source": [
    "import pandas as pd\n",
    "import pyodbc\n",
    "\n",
    "def mssql_connection(password: str, username: str, default_db: str = \"master\"):\n",
    "                     server = \"localhost\"\n",
    "                     \n",
    "                     cnxn = pyodbc.connect(\n",
    "                         \"DRIVER={ODBC Driver 17 for SQL Server};SERVER=\"\n",
    "                         + server\n",
    "                         + \";DATABASE=\"\n",
    "                         + default_db\n",
    "                         + \";UID=\"\n",
    "                         + username\n",
    "                         + \";PWD=\"\n",
    "                         +password\n",
    "                     )\n",
    "                     return cnxn"
   ]
  },
  {
   "cell_type": "code",
   "execution_count": 54,
   "id": "c24e1024-a3e7-4069-ab0b-48d5009ab9b0",
   "metadata": {},
   "outputs": [],
   "source": [
    "conn = mssql_connection(password= \"CCny23912093\" , username= \"SarahMcKoy93\" , default_db=\"summer_2022\")"
   ]
  },
  {
   "cell_type": "code",
   "execution_count": 55,
   "id": "ebb174eb-238c-409a-b688-9e88f2d422b0",
   "metadata": {},
   "outputs": [],
   "source": [
    "import matplotlib.pyplot as plt\n",
    "plt.close(\"all\")"
   ]
  },
  {
   "cell_type": "code",
   "execution_count": 56,
   "id": "3037c241-9f44-4e79-a2fd-30eaa8114853",
   "metadata": {},
   "outputs": [],
   "source": [
    "weekday_trip_cycle_df = pd.read_sql(\"SELECT * FROM [2019_taxi_trips] WHERE lpep_pickup_datetime >= '2019-05-13 00:00:00' AND lpep_pickup_datetime <= '2019-05-13 23:59:59' ORDER BY lpep_pickup_datetime\",conn)"
   ]
  },
  {
   "cell_type": "code",
   "execution_count": 57,
   "id": "f9057bd4-1613-4dfb-80d3-3507edc741df",
   "metadata": {},
   "outputs": [
    {
     "data": {
      "image/png": "[encoded data removed]",
      "text/plain": [
       "<Figure size 432x288 with 1 Axes>"
      ]
     },
     "metadata": {
      "needs_background": "light"
     },
     "output_type": "display_data"
    }
   ],
   "source": [
    "weekday_trip_cycle_df.lpep_pickup_datetime.hist(bins=24, orientation=\"horizontal\");"
   ]
  },
  {
   "cell_type": "code",
   "execution_count": 58,
   "id": "2b6efdd0-6cc3-4afd-aa2a-7d4af7821b84",
   "metadata": {},
   "outputs": [],
   "source": [
    "weekend_trip_cycle_df = pd.read_sql(\"SELECT * FROM [2019_taxi_trips] WHERE lpep_pickup_datetime >= '2019-05-11 00:00:00' AND lpep_pickup_datetime <= '2019-05-11 23:59:59' ORDER BY lpep_pickup_datetime\",conn)"
   ]
  },
  {
   "cell_type": "code",
   "execution_count": 59,
   "id": "7d94c85b-a36e-45fd-a6e7-c4b4f81e2e1d",
   "metadata": {},
   "outputs": [
    {
     "data": {
      "image/png": "[encoded data removed]",
      "text/plain": [
       "<Figure size 432x288 with 1 Axes>"
      ]
     },
     "metadata": {
      "needs_background": "light"
     },
     "output_type": "display_data"
    }
   ],
   "source": [
    "weekend_trip_cycle_df.lpep_pickup_datetime.hist(bins=24, orientation=\"horizontal\");"
   ]
  },
  {
   "cell_type": "code",
   "execution_count": 88,
   "id": "a4579f30-92e4-49a9-ae55-82211b834c21",
   "metadata": {},
   "outputs": [],
   "source": [
    "january_trips_2018_df = pd.read_sql(\"SELECT lpep_pickup_datetime FROM [2018_taxi_trips] WHERE lpep_pickup_datetime >= '2018-01-01' AND lpep_pickup_datetime <= '2018-01-31' ORDER BY lpep_pickup_datetime\",conn)"
   ]
  },
  {
   "cell_type": "code",
   "execution_count": 89,
   "id": "ee7500e5-cc3d-4efb-918a-bff5d88e314b",
   "metadata": {},
   "outputs": [
    {
     "data": {
      "text/plain": [
       "766728"
      ]
     },
     "execution_count": 89,
     "metadata": {},
     "output_type": "execute_result"
    }
   ],
   "source": [
    "january_trips_2018_df.lpep_pickup_datetime.count()"
   ]
  },
  {
   "cell_type": "code",
   "execution_count": 90,
   "id": "74ce09dd-9f70-4215-842b-3fa5c05295e2",
   "metadata": {},
   "outputs": [],
   "source": [
    "february_trips_2018_df = pd.read_sql(\"SELECT lpep_pickup_datetime FROM [2018_taxi_trips] WHERE lpep_pickup_datetime >= '2018-02-01' AND lpep_pickup_datetime <= '2018-02-28' ORDER BY lpep_pickup_datetime\",conn)"
   ]
  },
  {
   "cell_type": "code",
   "execution_count": 91,
   "id": "9ab55256-d4e6-44e1-8f54-b9f690d7d15b",
   "metadata": {},
   "outputs": [
    {
     "data": {
      "text/plain": [
       "742875"
      ]
     },
     "execution_count": 91,
     "metadata": {},
     "output_type": "execute_result"
    }
   ],
   "source": [
    "february_trips_2018_df.lpep_pickup_datetime.count()"
   ]
  },
  {
   "cell_type": "code",
   "execution_count": 92,
   "id": "d5f0ff4d-b89b-433d-97fb-559767fe5098",
   "metadata": {},
   "outputs": [],
   "source": [
    "march_trips_2018_df = pd.read_sql(\"SELECT lpep_pickup_datetime FROM [2018_taxi_trips] WHERE lpep_pickup_datetime >= '2018-03-01' AND lpep_pickup_datetime <= '2018-03-31' ORDER BY lpep_pickup_datetime\",conn)"
   ]
  },
  {
   "cell_type": "code",
   "execution_count": 93,
   "id": "09acd457-bcb8-4eb4-b1bf-73cd479781f5",
   "metadata": {},
   "outputs": [
    {
     "data": {
      "text/plain": [
       "806994"
      ]
     },
     "execution_count": 93,
     "metadata": {},
     "output_type": "execute_result"
    }
   ],
   "source": [
    "march_trips_2018_df.lpep_pickup_datetime.count()"
   ]
  },
  {
   "cell_type": "code",
   "execution_count": 94,
   "id": "2010650c-8255-4594-9292-5acd1a117436",
   "metadata": {},
   "outputs": [],
   "source": [
    "april_trips_2018_df = pd.read_sql(\"SELECT lpep_pickup_datetime FROM [2018_taxi_trips] WHERE lpep_pickup_datetime >= '2018-04-01' AND lpep_pickup_datetime <= '2018-04-30' ORDER BY lpep_pickup_datetime\",conn)"
   ]
  },
  {
   "cell_type": "code",
   "execution_count": 95,
   "id": "f131090b-abbd-4867-aae8-4ffed2622696",
   "metadata": {},
   "outputs": [
    {
     "data": {
      "text/plain": [
       "775152"
      ]
     },
     "execution_count": 95,
     "metadata": {},
     "output_type": "execute_result"
    }
   ],
   "source": [
    "april_trips_2018_df.lpep_pickup_datetime.count()"
   ]
  },
  {
   "cell_type": "code",
   "execution_count": 96,
   "id": "7766612a-23e4-4615-bd59-14f84586d262",
   "metadata": {},
   "outputs": [],
   "source": [
    "may_trips_2018_df = pd.read_sql(\"SELECT lpep_pickup_datetime FROM [2018_taxi_trips] WHERE lpep_pickup_datetime >= '2018-05-01' AND lpep_pickup_datetime <= '2018-05-31' ORDER BY lpep_pickup_datetime\",conn)"
   ]
  },
  {
   "cell_type": "code",
   "execution_count": 97,
   "id": "513d9075-93f1-4e90-a325-c235c5a7fcc7",
   "metadata": {},
   "outputs": [
    {
     "data": {
      "text/plain": [
       "771334"
      ]
     },
     "execution_count": 97,
     "metadata": {},
     "output_type": "execute_result"
    }
   ],
   "source": [
    "may_trips_2018_df.lpep_pickup_datetime.count()"
   ]
  },
  {
   "cell_type": "code",
   "execution_count": 98,
   "id": "6b3cb901-125c-44a9-b518-1aadfa6e16f6",
   "metadata": {},
   "outputs": [],
   "source": [
    "june_trips_2018_df = pd.read_sql(\"SELECT lpep_pickup_datetime FROM [2018_taxi_trips] WHERE lpep_pickup_datetime >= '2018-06-01' AND lpep_pickup_datetime <= '2018-06-30' ORDER BY lpep_pickup_datetime\",conn)"
   ]
  },
  {
   "cell_type": "code",
   "execution_count": 99,
   "id": "a159fed8-955c-42fd-8639-58bb9bed7ef5",
   "metadata": {},
   "outputs": [
    {
     "data": {
      "text/plain": [
       "711608"
      ]
     },
     "execution_count": 99,
     "metadata": {},
     "output_type": "execute_result"
    }
   ],
   "source": [
    "june_trips_2018_df.lpep_pickup_datetime.count()"
   ]
  },
  {
   "cell_type": "code",
   "execution_count": 100,
   "id": "626c2def-857c-4e57-b427-e529515a1529",
   "metadata": {},
   "outputs": [],
   "source": [
    "july_trips_2018_df = pd.read_sql(\"SELECT lpep_pickup_datetime FROM [2018_taxi_trips] WHERE lpep_pickup_datetime >= '2018-07-01' AND lpep_pickup_datetime <= '2018-07-31' ORDER BY lpep_pickup_datetime\",conn)"
   ]
  },
  {
   "cell_type": "code",
   "execution_count": 101,
   "id": "20f493bb-4b19-4099-b1ba-00c489d712e9",
   "metadata": {},
   "outputs": [
    {
     "data": {
      "text/plain": [
       "663670"
      ]
     },
     "execution_count": 101,
     "metadata": {},
     "output_type": "execute_result"
    }
   ],
   "source": [
    "july_trips_2018_df.lpep_pickup_datetime.count()"
   ]
  },
  {
   "cell_type": "code",
   "execution_count": 104,
   "id": "301e80f5-1fbe-4e1f-a38f-2b6deac4ca64",
   "metadata": {},
   "outputs": [],
   "source": [
    "august_trips_2018_df = pd.read_sql(\"SELECT lpep_pickup_datetime FROM [2018_taxi_trips] WHERE lpep_pickup_datetime >= '2018-08-01' AND lpep_pickup_datetime <= '2018-08-31' ORDER BY lpep_pickup_datetime\",conn)"
   ]
  },
  {
   "cell_type": "code",
   "execution_count": 105,
   "id": "56784bae-244a-497c-9967-0083e1b7851f",
   "metadata": {},
   "outputs": [
    {
     "data": {
      "text/plain": [
       "642375"
      ]
     },
     "execution_count": 105,
     "metadata": {},
     "output_type": "execute_result"
    }
   ],
   "source": [
    "august_trips_2018_df.lpep_pickup_datetime.count()"
   ]
  },
  {
   "cell_type": "code",
   "execution_count": 106,
   "id": "caa5037f-bc59-4cc1-ae3a-2bbc8dca0850",
   "metadata": {},
   "outputs": [],
   "source": [
    "september_trips_2018_df = pd.read_sql(\"SELECT lpep_pickup_datetime FROM [2018_taxi_trips] WHERE lpep_pickup_datetime >= '2018-09-01' AND lpep_pickup_datetime <= '2018-09-30' ORDER BY lpep_pickup_datetime\",conn)"
   ]
  },
  {
   "cell_type": "code",
   "execution_count": 107,
   "id": "b13d1492-bf16-4dde-8a8d-842f564e074a",
   "metadata": {},
   "outputs": [
    {
     "data": {
      "text/plain": [
       "646120"
      ]
     },
     "execution_count": 107,
     "metadata": {},
     "output_type": "execute_result"
    }
   ],
   "source": [
    "september_trips_2018_df.lpep_pickup_datetime.count()"
   ]
  },
  {
   "cell_type": "code",
   "execution_count": 108,
   "id": "20449b4c-d708-4166-bf6c-6a36913a5b1a",
   "metadata": {},
   "outputs": [],
   "source": [
    "october_trips_2018_df = pd.read_sql(\"SELECT lpep_pickup_datetime FROM [2018_taxi_trips] WHERE lpep_pickup_datetime >= '2018-10-01' AND lpep_pickup_datetime <= '2018-10-31' ORDER BY lpep_pickup_datetime\",conn)"
   ]
  },
  {
   "cell_type": "code",
   "execution_count": 109,
   "id": "8280c023-100a-4b36-8fc3-326f4a2d08b3",
   "metadata": {},
   "outputs": [
    {
     "data": {
      "text/plain": [
       "687458"
      ]
     },
     "execution_count": 109,
     "metadata": {},
     "output_type": "execute_result"
    }
   ],
   "source": [
    "october_trips_2018_df.lpep_pickup_datetime.count()"
   ]
  },
  {
   "cell_type": "code",
   "execution_count": 110,
   "id": "f1ee61bc-7832-4855-b563-bd98a406c042",
   "metadata": {},
   "outputs": [],
   "source": [
    "november_trips_2018_df = pd.read_sql(\"SELECT lpep_pickup_datetime FROM [2018_taxi_trips] WHERE lpep_pickup_datetime >= '2018-11-01' AND lpep_pickup_datetime <= '2018-11-30' ORDER BY lpep_pickup_datetime\",conn)"
   ]
  },
  {
   "cell_type": "code",
   "execution_count": 111,
   "id": "74ed847b-634a-4bd6-8df4-875e49f6b632",
   "metadata": {},
   "outputs": [
    {
     "data": {
      "text/plain": [
       "630983"
      ]
     },
     "execution_count": 111,
     "metadata": {},
     "output_type": "execute_result"
    }
   ],
   "source": [
    "november_trips_2018_df.lpep_pickup_datetime.count()"
   ]
  },
  {
   "cell_type": "code",
   "execution_count": 112,
   "id": "c248fa1c-9bde-4adb-915a-201bac37eecb",
   "metadata": {},
   "outputs": [],
   "source": [
    "december_trips_2018_df = pd.read_sql(\"SELECT lpep_pickup_datetime FROM [2018_taxi_trips] WHERE lpep_pickup_datetime >= '2018-12-01' AND lpep_pickup_datetime <= '2018-12-31' ORDER BY lpep_pickup_datetime\",conn)"
   ]
  },
  {
   "cell_type": "code",
   "execution_count": 113,
   "id": "c56a86ea-a3cf-48cd-9f48-8ad8291b1af2",
   "metadata": {},
   "outputs": [
    {
     "data": {
      "text/plain": [
       "663302"
      ]
     },
     "execution_count": 113,
     "metadata": {},
     "output_type": "execute_result"
    }
   ],
   "source": [
    "december_trips_2018_df.lpep_pickup_datetime.count()"
   ]
  },
  {
   "cell_type": "code",
   "execution_count": null,
   "id": "b784affb-c9f3-49bb-9316-92e528902133",
   "metadata": {},
   "outputs": [],
   "source": []
  }
 ],
 "metadata": {
  "kernelspec": {
   "display_name": "Python 3 (ipykernel)",
   "language": "python",
   "name": "python3"
  },
  "language_info": {
   "codemirror_mode": {
    "name": "ipython",
    "version": 3
   },
   "file_extension": ".py",
   "mimetype": "text/x-python",
   "name": "python",
   "nbconvert_exporter": "python",
   "pygments_lexer": "ipython3",
   "version": "3.9.7"
  }
 },
 "nbformat": 4,
 "nbformat_minor": 5
}
