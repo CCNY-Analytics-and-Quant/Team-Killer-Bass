{
 "cells": [
  {
   "cell_type": "markdown",
   "id": "fe954bd5-5211-4fbc-8621-1cbc7ae89d33",
   "metadata": {},
   "source": [
    "***Taxi Company Final Project***"
   ]
  },
  {
   "cell_type": "code",
   "execution_count": 3,
   "id": "d3875084-db93-4891-9e0d-d5babf0727bb",
   "metadata": {},
   "outputs": [],
   "source": [
    "import pandas as pd\n",
    "import pyodbc\n",
    "\n",
    "def mssql_connection(password: str, username: str, default_db: str = \"master\"):\n",
    "                     server = \"localhost\"\n",
    "                     \n",
    "                     cnxn = pyodbc.connect(\n",
    "                         \"DRIVER={ODBC Driver 17 for SQL Server};SERVER=\"\n",
    "                         + server\n",
    "                         + \";DATABASE=\"\n",
    "                         + default_db\n",
    "                         + \";UID=\"\n",
    "                         + username\n",
    "                         + \";PWD=\"\n",
    "                         +password\n",
    "                     )\n",
    "                     return cnxn"
   ]
  },
  {
   "cell_type": "code",
   "execution_count": 4,
   "id": "c24e1024-a3e7-4069-ab0b-48d5009ab9b0",
   "metadata": {},
   "outputs": [],
   "source": [
    "conn = mssql_connection(password= \"CCny23912093\" , username= \"SarahMcKoy93\" , default_db=\"summer_2022\")"
   ]
  },
  {
   "cell_type": "code",
   "execution_count": 5,
   "id": "ebb174eb-238c-409a-b688-9e88f2d422b0",
   "metadata": {},
   "outputs": [],
   "source": [
    "import matplotlib.pyplot as plt\n",
    "plt.close(\"all\")"
   ]
  },
  {
   "cell_type": "code",
   "execution_count": 16,
   "id": "3037c241-9f44-4e79-a2fd-30eaa8114853",
   "metadata": {},
   "outputs": [],
   "source": [
    "weekday_trip_cycle_df = pd.read_sql(\"SELECT * FROM [2019_taxi_trips] WHERE lpep_pickup_datetime >= '2019-07-15 00:00:00' AND lpep_pickup_datetime <= '2019-07-15 23:59:59' ORDER BY lpep_pickup_datetime\",conn)"
   ]
  },
  {
   "cell_type": "code",
   "execution_count": 17,
   "id": "f9057bd4-1613-4dfb-80d3-3507edc741df",
   "metadata": {},
   "outputs": [
    {
     "data": {
      "text/plain": [
       "<AxesSubplot:>"
      ]
     },
     "execution_count": 17,
     "metadata": {},
     "output_type": "execute_result"
    },
    {
     "data": {
      "image/png": "[encoded data removed]",
      "text/plain": [
       "<Figure size 432x288 with 1 Axes>"
      ]
     },
     "metadata": {
      "needs_background": "light"
     },
     "output_type": "display_data"
    }
   ],
   "source": [
    "weekday_trip_cycle_df.lpep_pickup_datetime.hist(bins=24, orientation=\"horizontal\")"
   ]
  },
  {
   "cell_type": "code",
   "execution_count": null,
   "id": "2b6efdd0-6cc3-4afd-aa2a-7d4af7821b84",
   "metadata": {},
   "outputs": [],
   "source": []
  }
 ],
 "metadata": {
  "kernelspec": {
   "display_name": "Python 3 (ipykernel)",
   "language": "python",
   "name": "python3"
  },
  "language_info": {
   "codemirror_mode": {
    "name": "ipython",
    "version": 3
   },
   "file_extension": ".py",
   "mimetype": "text/x-python",
   "name": "python",
   "nbconvert_exporter": "python",
   "pygments_lexer": "ipython3",
   "version": "3.9.7"
  }
 },
 "nbformat": 4,
 "nbformat_minor": 5
}
